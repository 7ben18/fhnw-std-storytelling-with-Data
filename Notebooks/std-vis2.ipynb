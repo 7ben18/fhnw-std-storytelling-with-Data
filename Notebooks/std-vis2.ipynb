{
 "cells": [
  {
   "cell_type": "code",
   "execution_count": 7,
   "metadata": {},
   "outputs": [],
   "source": [
    "# import dependencies\n",
    "import pandas as pd\n",
    "import numpy as np\n",
    "import matplotlib.pyplot as plt\n",
    "import seaborn as sns\n",
    "import os\n",
    "import plotly.express as px\n",
    "import plotly.graph_objects as go\n",
    "# import subplot\n",
    "from plotly.subplots import make_subplots\n"
   ]
  },
  {
   "cell_type": "code",
   "execution_count": 8,
   "metadata": {},
   "outputs": [
    {
     "data": {
      "text/html": [
       "<div>\n",
       "<style scoped>\n",
       "    .dataframe tbody tr th:only-of-type {\n",
       "        vertical-align: middle;\n",
       "    }\n",
       "\n",
       "    .dataframe tbody tr th {\n",
       "        vertical-align: top;\n",
       "    }\n",
       "\n",
       "    .dataframe thead th {\n",
       "        text-align: right;\n",
       "    }\n",
       "</style>\n",
       "<table border=\"1\" class=\"dataframe\">\n",
       "  <thead>\n",
       "    <tr style=\"text-align: right;\">\n",
       "      <th></th>\n",
       "      <th>Month</th>\n",
       "      <th>Brent Spot Price (U.S. Dollars per Barrel)</th>\n",
       "      <th>WTI Spot Price (U.S. Dollars per Barrel)</th>\n",
       "    </tr>\n",
       "  </thead>\n",
       "  <tbody>\n",
       "    <tr>\n",
       "      <th>0</th>\n",
       "      <td>2015-01</td>\n",
       "      <td>47.759500</td>\n",
       "      <td>47.219000</td>\n",
       "    </tr>\n",
       "    <tr>\n",
       "      <th>1</th>\n",
       "      <td>2015-02</td>\n",
       "      <td>58.095500</td>\n",
       "      <td>50.584211</td>\n",
       "    </tr>\n",
       "    <tr>\n",
       "      <th>2</th>\n",
       "      <td>2015-03</td>\n",
       "      <td>55.885455</td>\n",
       "      <td>47.823636</td>\n",
       "    </tr>\n",
       "    <tr>\n",
       "      <th>3</th>\n",
       "      <td>2015-04</td>\n",
       "      <td>59.524286</td>\n",
       "      <td>54.452857</td>\n",
       "    </tr>\n",
       "    <tr>\n",
       "      <th>4</th>\n",
       "      <td>2015-05</td>\n",
       "      <td>64.075000</td>\n",
       "      <td>59.265000</td>\n",
       "    </tr>\n",
       "  </tbody>\n",
       "</table>\n",
       "</div>"
      ],
      "text/plain": [
       "     Month  Brent Spot Price (U.S. Dollars per Barrel)  \\\n",
       "0  2015-01                                   47.759500   \n",
       "1  2015-02                                   58.095500   \n",
       "2  2015-03                                   55.885455   \n",
       "3  2015-04                                   59.524286   \n",
       "4  2015-05                                   64.075000   \n",
       "\n",
       "   WTI Spot Price (U.S. Dollars per Barrel)  \n",
       "0                                 47.219000  \n",
       "1                                 50.584211  \n",
       "2                                 47.823636  \n",
       "3                                 54.452857  \n",
       "4                                 59.265000  "
      ]
     },
     "metadata": {},
     "output_type": "display_data"
    },
    {
     "data": {
      "text/html": [
       "<div>\n",
       "<style scoped>\n",
       "    .dataframe tbody tr th:only-of-type {\n",
       "        vertical-align: middle;\n",
       "    }\n",
       "\n",
       "    .dataframe tbody tr th {\n",
       "        vertical-align: top;\n",
       "    }\n",
       "\n",
       "    .dataframe thead th {\n",
       "        text-align: right;\n",
       "    }\n",
       "</style>\n",
       "<table border=\"1\" class=\"dataframe\">\n",
       "  <thead>\n",
       "    <tr style=\"text-align: right;\">\n",
       "      <th></th>\n",
       "      <th>Monat</th>\n",
       "      <th>Bleifrei 95 / LIK</th>\n",
       "      <th>Bleifrei 98 / LIK</th>\n",
       "      <th>Diesel / LIK</th>\n",
       "      <th>Month</th>\n",
       "    </tr>\n",
       "  </thead>\n",
       "  <tbody>\n",
       "    <tr>\n",
       "      <th>0</th>\n",
       "      <td>2015-12-01</td>\n",
       "      <td>1.430000</td>\n",
       "      <td>1.490000</td>\n",
       "      <td>1.500000</td>\n",
       "      <td>2015-12</td>\n",
       "    </tr>\n",
       "    <tr>\n",
       "      <th>1</th>\n",
       "      <td>2016-01-01</td>\n",
       "      <td>1.355422</td>\n",
       "      <td>1.415663</td>\n",
       "      <td>1.415663</td>\n",
       "      <td>2016-01</td>\n",
       "    </tr>\n",
       "    <tr>\n",
       "      <th>2</th>\n",
       "      <td>2016-02-01</td>\n",
       "      <td>1.322645</td>\n",
       "      <td>1.382766</td>\n",
       "      <td>1.352705</td>\n",
       "      <td>2016-02</td>\n",
       "    </tr>\n",
       "    <tr>\n",
       "      <th>3</th>\n",
       "      <td>2016-03-01</td>\n",
       "      <td>1.328671</td>\n",
       "      <td>1.398601</td>\n",
       "      <td>1.368631</td>\n",
       "      <td>2016-03</td>\n",
       "    </tr>\n",
       "    <tr>\n",
       "      <th>4</th>\n",
       "      <td>2016-04-01</td>\n",
       "      <td>1.374502</td>\n",
       "      <td>1.444223</td>\n",
       "      <td>1.404382</td>\n",
       "      <td>2016-04</td>\n",
       "    </tr>\n",
       "  </tbody>\n",
       "</table>\n",
       "</div>"
      ],
      "text/plain": [
       "       Monat  Bleifrei 95 / LIK   Bleifrei 98 / LIK  Diesel / LIK    Month\n",
       "0 2015-12-01            1.430000           1.490000      1.500000  2015-12\n",
       "1 2016-01-01            1.355422           1.415663      1.415663  2016-01\n",
       "2 2016-02-01            1.322645           1.382766      1.352705  2016-02\n",
       "3 2016-03-01            1.328671           1.398601      1.368631  2016-03\n",
       "4 2016-04-01            1.374502           1.444223      1.404382  2016-04"
      ]
     },
     "metadata": {},
     "output_type": "display_data"
    },
    {
     "data": {
      "text/html": [
       "<div>\n",
       "<style scoped>\n",
       "    .dataframe tbody tr th:only-of-type {\n",
       "        vertical-align: middle;\n",
       "    }\n",
       "\n",
       "    .dataframe tbody tr th {\n",
       "        vertical-align: top;\n",
       "    }\n",
       "\n",
       "    .dataframe thead th {\n",
       "        text-align: right;\n",
       "    }\n",
       "</style>\n",
       "<table border=\"1\" class=\"dataframe\">\n",
       "  <thead>\n",
       "    <tr style=\"text-align: right;\">\n",
       "      <th></th>\n",
       "      <th>Month</th>\n",
       "      <th>Brent Spot Price (U.S. Dollars per Barrel)</th>\n",
       "      <th>WTI Spot Price (U.S. Dollars per Barrel)</th>\n",
       "      <th>Bleifrei 95 / LIK</th>\n",
       "      <th>Bleifrei 98 / LIK</th>\n",
       "      <th>Diesel / LIK</th>\n",
       "      <th>Durchschnittlicher Treibstoffpreis in CHF</th>\n",
       "    </tr>\n",
       "  </thead>\n",
       "  <tbody>\n",
       "    <tr>\n",
       "      <th>0</th>\n",
       "      <td>2015-12</td>\n",
       "      <td>37.965217</td>\n",
       "      <td>37.206522</td>\n",
       "      <td>1.430000</td>\n",
       "      <td>1.490000</td>\n",
       "      <td>1.500000</td>\n",
       "      <td>1.460000</td>\n",
       "    </tr>\n",
       "    <tr>\n",
       "      <th>1</th>\n",
       "      <td>2016-01</td>\n",
       "      <td>30.980952</td>\n",
       "      <td>31.955500</td>\n",
       "      <td>1.355422</td>\n",
       "      <td>1.415663</td>\n",
       "      <td>1.415663</td>\n",
       "      <td>1.385542</td>\n",
       "    </tr>\n",
       "    <tr>\n",
       "      <th>2</th>\n",
       "      <td>2016-02</td>\n",
       "      <td>32.181500</td>\n",
       "      <td>30.323000</td>\n",
       "      <td>1.322645</td>\n",
       "      <td>1.382766</td>\n",
       "      <td>1.352705</td>\n",
       "      <td>1.352705</td>\n",
       "    </tr>\n",
       "    <tr>\n",
       "      <th>3</th>\n",
       "      <td>2016-03</td>\n",
       "      <td>38.210455</td>\n",
       "      <td>37.546364</td>\n",
       "      <td>1.328671</td>\n",
       "      <td>1.398601</td>\n",
       "      <td>1.368631</td>\n",
       "      <td>1.363636</td>\n",
       "    </tr>\n",
       "    <tr>\n",
       "      <th>4</th>\n",
       "      <td>2016-04</td>\n",
       "      <td>41.583333</td>\n",
       "      <td>40.755238</td>\n",
       "      <td>1.374502</td>\n",
       "      <td>1.444223</td>\n",
       "      <td>1.404382</td>\n",
       "      <td>1.409363</td>\n",
       "    </tr>\n",
       "  </tbody>\n",
       "</table>\n",
       "</div>"
      ],
      "text/plain": [
       "     Month  Brent Spot Price (U.S. Dollars per Barrel)  \\\n",
       "0  2015-12                                   37.965217   \n",
       "1  2016-01                                   30.980952   \n",
       "2  2016-02                                   32.181500   \n",
       "3  2016-03                                   38.210455   \n",
       "4  2016-04                                   41.583333   \n",
       "\n",
       "   WTI Spot Price (U.S. Dollars per Barrel)  Bleifrei 95 / LIK   \\\n",
       "0                                 37.206522            1.430000   \n",
       "1                                 31.955500            1.355422   \n",
       "2                                 30.323000            1.322645   \n",
       "3                                 37.546364            1.328671   \n",
       "4                                 40.755238            1.374502   \n",
       "\n",
       "   Bleifrei 98 / LIK  Diesel / LIK  Durchschnittlicher Treibstoffpreis in CHF  \n",
       "0           1.490000      1.500000                                   1.460000  \n",
       "1           1.415663      1.415663                                   1.385542  \n",
       "2           1.382766      1.352705                                   1.352705  \n",
       "3           1.398601      1.368631                                   1.363636  \n",
       "4           1.444223      1.404382                                   1.409363  "
      ]
     },
     "metadata": {},
     "output_type": "display_data"
    },
    {
     "data": {
      "text/html": [
       "<div>\n",
       "<style scoped>\n",
       "    .dataframe tbody tr th:only-of-type {\n",
       "        vertical-align: middle;\n",
       "    }\n",
       "\n",
       "    .dataframe tbody tr th {\n",
       "        vertical-align: top;\n",
       "    }\n",
       "\n",
       "    .dataframe thead th {\n",
       "        text-align: right;\n",
       "    }\n",
       "</style>\n",
       "<table border=\"1\" class=\"dataframe\">\n",
       "  <thead>\n",
       "    <tr style=\"text-align: right;\">\n",
       "      <th></th>\n",
       "      <th>Datum</th>\n",
       "      <th>Monatlich</th>\n",
       "      <th>Eröffn.</th>\n",
       "      <th>Hoch</th>\n",
       "      <th>Tief</th>\n",
       "      <th>Vol.</th>\n",
       "      <th>+/- %</th>\n",
       "    </tr>\n",
       "  </thead>\n",
       "  <tbody>\n",
       "    <tr>\n",
       "      <th>0</th>\n",
       "      <td>2023-05-01</td>\n",
       "      <td>0,8962</td>\n",
       "      <td>0,8947</td>\n",
       "      <td>0,8995</td>\n",
       "      <td>0,8820</td>\n",
       "      <td>NaN</td>\n",
       "      <td>0.0024</td>\n",
       "    </tr>\n",
       "    <tr>\n",
       "      <th>1</th>\n",
       "      <td>2023-04-01</td>\n",
       "      <td>0,8941</td>\n",
       "      <td>0,9148</td>\n",
       "      <td>0,9198</td>\n",
       "      <td>0,8852</td>\n",
       "      <td>NaN</td>\n",
       "      <td>-0.0226</td>\n",
       "    </tr>\n",
       "    <tr>\n",
       "      <th>2</th>\n",
       "      <td>2023-03-01</td>\n",
       "      <td>0,9148</td>\n",
       "      <td>0,9422</td>\n",
       "      <td>0,9442</td>\n",
       "      <td>0,9071</td>\n",
       "      <td>NaN</td>\n",
       "      <td>-0.0290</td>\n",
       "    </tr>\n",
       "    <tr>\n",
       "      <th>3</th>\n",
       "      <td>2023-02-01</td>\n",
       "      <td>0,9421</td>\n",
       "      <td>0,9165</td>\n",
       "      <td>0,9433</td>\n",
       "      <td>0,9060</td>\n",
       "      <td>NaN</td>\n",
       "      <td>0.0284</td>\n",
       "    </tr>\n",
       "    <tr>\n",
       "      <th>4</th>\n",
       "      <td>2023-01-01</td>\n",
       "      <td>0,9161</td>\n",
       "      <td>0,9245</td>\n",
       "      <td>0,9409</td>\n",
       "      <td>0,9085</td>\n",
       "      <td>NaN</td>\n",
       "      <td>-0.0090</td>\n",
       "    </tr>\n",
       "  </tbody>\n",
       "</table>\n",
       "</div>"
      ],
      "text/plain": [
       "       Datum Monatlich Eröffn.    Hoch    Tief  Vol.   +/- %\n",
       "0 2023-05-01    0,8962  0,8947  0,8995  0,8820   NaN  0.0024\n",
       "1 2023-04-01    0,8941  0,9148  0,9198  0,8852   NaN -0.0226\n",
       "2 2023-03-01    0,9148  0,9422  0,9442  0,9071   NaN -0.0290\n",
       "3 2023-02-01    0,9421  0,9165  0,9433  0,9060   NaN  0.0284\n",
       "4 2023-01-01    0,9161  0,9245  0,9409  0,9085   NaN -0.0090"
      ]
     },
     "metadata": {},
     "output_type": "display_data"
    },
    {
     "data": {
      "text/html": [
       "<div>\n",
       "<style scoped>\n",
       "    .dataframe tbody tr th:only-of-type {\n",
       "        vertical-align: middle;\n",
       "    }\n",
       "\n",
       "    .dataframe tbody tr th {\n",
       "        vertical-align: top;\n",
       "    }\n",
       "\n",
       "    .dataframe thead th {\n",
       "        text-align: right;\n",
       "    }\n",
       "</style>\n",
       "<table border=\"1\" class=\"dataframe\">\n",
       "  <thead>\n",
       "    <tr style=\"text-align: right;\">\n",
       "      <th></th>\n",
       "      <th>Datum</th>\n",
       "      <th>USD in CHF</th>\n",
       "      <th>Month</th>\n",
       "    </tr>\n",
       "  </thead>\n",
       "  <tbody>\n",
       "    <tr>\n",
       "      <th>0</th>\n",
       "      <td>2023-05-01</td>\n",
       "      <td>0.8962</td>\n",
       "      <td>2023-05</td>\n",
       "    </tr>\n",
       "    <tr>\n",
       "      <th>1</th>\n",
       "      <td>2023-04-01</td>\n",
       "      <td>0.8941</td>\n",
       "      <td>2023-04</td>\n",
       "    </tr>\n",
       "    <tr>\n",
       "      <th>2</th>\n",
       "      <td>2023-03-01</td>\n",
       "      <td>0.9148</td>\n",
       "      <td>2023-03</td>\n",
       "    </tr>\n",
       "    <tr>\n",
       "      <th>3</th>\n",
       "      <td>2023-02-01</td>\n",
       "      <td>0.9421</td>\n",
       "      <td>2023-02</td>\n",
       "    </tr>\n",
       "    <tr>\n",
       "      <th>4</th>\n",
       "      <td>2023-01-01</td>\n",
       "      <td>0.9161</td>\n",
       "      <td>2023-01</td>\n",
       "    </tr>\n",
       "  </tbody>\n",
       "</table>\n",
       "</div>"
      ],
      "text/plain": [
       "       Datum  USD in CHF    Month\n",
       "0 2023-05-01      0.8962  2023-05\n",
       "1 2023-04-01      0.8941  2023-04\n",
       "2 2023-03-01      0.9148  2023-03\n",
       "3 2023-02-01      0.9421  2023-02\n",
       "4 2023-01-01      0.9161  2023-01"
      ]
     },
     "metadata": {},
     "output_type": "display_data"
    },
    {
     "data": {
      "text/html": [
       "<div>\n",
       "<style scoped>\n",
       "    .dataframe tbody tr th:only-of-type {\n",
       "        vertical-align: middle;\n",
       "    }\n",
       "\n",
       "    .dataframe tbody tr th {\n",
       "        vertical-align: top;\n",
       "    }\n",
       "\n",
       "    .dataframe thead th {\n",
       "        text-align: right;\n",
       "    }\n",
       "</style>\n",
       "<table border=\"1\" class=\"dataframe\">\n",
       "  <thead>\n",
       "    <tr style=\"text-align: right;\">\n",
       "      <th></th>\n",
       "      <th>Month</th>\n",
       "      <th>Brent Spot Price (U.S. Dollars per Barrel)</th>\n",
       "      <th>WTI Spot Price (U.S. Dollars per Barrel)</th>\n",
       "      <th>Bleifrei 95 / LIK</th>\n",
       "      <th>Bleifrei 98 / LIK</th>\n",
       "      <th>Diesel / LIK</th>\n",
       "      <th>Durchschnittlicher Treibstoffpreis in CHF</th>\n",
       "      <th>USD in CHF</th>\n",
       "    </tr>\n",
       "  </thead>\n",
       "  <tbody>\n",
       "    <tr>\n",
       "      <th>0</th>\n",
       "      <td>2015-12</td>\n",
       "      <td>37.965217</td>\n",
       "      <td>37.206522</td>\n",
       "      <td>1.430000</td>\n",
       "      <td>1.490000</td>\n",
       "      <td>1.500000</td>\n",
       "      <td>1.460000</td>\n",
       "      <td>1.0018</td>\n",
       "    </tr>\n",
       "    <tr>\n",
       "      <th>1</th>\n",
       "      <td>2016-01</td>\n",
       "      <td>30.980952</td>\n",
       "      <td>31.955500</td>\n",
       "      <td>1.355422</td>\n",
       "      <td>1.415663</td>\n",
       "      <td>1.415663</td>\n",
       "      <td>1.385542</td>\n",
       "      <td>1.0227</td>\n",
       "    </tr>\n",
       "    <tr>\n",
       "      <th>2</th>\n",
       "      <td>2016-02</td>\n",
       "      <td>32.181500</td>\n",
       "      <td>30.323000</td>\n",
       "      <td>1.322645</td>\n",
       "      <td>1.382766</td>\n",
       "      <td>1.352705</td>\n",
       "      <td>1.352705</td>\n",
       "      <td>0.9980</td>\n",
       "    </tr>\n",
       "    <tr>\n",
       "      <th>3</th>\n",
       "      <td>2016-03</td>\n",
       "      <td>38.210455</td>\n",
       "      <td>37.546364</td>\n",
       "      <td>1.328671</td>\n",
       "      <td>1.398601</td>\n",
       "      <td>1.368631</td>\n",
       "      <td>1.363636</td>\n",
       "      <td>0.9611</td>\n",
       "    </tr>\n",
       "    <tr>\n",
       "      <th>4</th>\n",
       "      <td>2016-04</td>\n",
       "      <td>41.583333</td>\n",
       "      <td>40.755238</td>\n",
       "      <td>1.374502</td>\n",
       "      <td>1.444223</td>\n",
       "      <td>1.404382</td>\n",
       "      <td>1.409363</td>\n",
       "      <td>0.9595</td>\n",
       "    </tr>\n",
       "  </tbody>\n",
       "</table>\n",
       "</div>"
      ],
      "text/plain": [
       "     Month  Brent Spot Price (U.S. Dollars per Barrel)  \\\n",
       "0  2015-12                                   37.965217   \n",
       "1  2016-01                                   30.980952   \n",
       "2  2016-02                                   32.181500   \n",
       "3  2016-03                                   38.210455   \n",
       "4  2016-04                                   41.583333   \n",
       "\n",
       "   WTI Spot Price (U.S. Dollars per Barrel)  Bleifrei 95 / LIK   \\\n",
       "0                                 37.206522            1.430000   \n",
       "1                                 31.955500            1.355422   \n",
       "2                                 30.323000            1.322645   \n",
       "3                                 37.546364            1.328671   \n",
       "4                                 40.755238            1.374502   \n",
       "\n",
       "   Bleifrei 98 / LIK  Diesel / LIK  Durchschnittlicher Treibstoffpreis in CHF  \\\n",
       "0           1.490000      1.500000                                   1.460000   \n",
       "1           1.415663      1.415663                                   1.385542   \n",
       "2           1.382766      1.352705                                   1.352705   \n",
       "3           1.398601      1.368631                                   1.363636   \n",
       "4           1.444223      1.404382                                   1.409363   \n",
       "\n",
       "   USD in CHF  \n",
       "0      1.0018  \n",
       "1      1.0227  \n",
       "2      0.9980  \n",
       "3      0.9611  \n",
       "4      0.9595  "
      ]
     },
     "metadata": {},
     "output_type": "display_data"
    },
    {
     "name": "stdout",
     "output_type": "stream",
     "text": [
      "<class 'pandas.core.frame.DataFrame'>\n",
      "Int64Index: 87 entries, 0 to 86\n",
      "Data columns (total 8 columns):\n",
      " #   Column                                      Non-Null Count  Dtype  \n",
      "---  ------                                      --------------  -----  \n",
      " 0   Month                                       87 non-null     object \n",
      " 1   Brent Spot Price (U.S. Dollars per Barrel)  87 non-null     float64\n",
      " 2   WTI Spot Price (U.S. Dollars per Barrel)    87 non-null     float64\n",
      " 3   Bleifrei 95 / LIK                           87 non-null     float64\n",
      " 4   Bleifrei 98 / LIK                           87 non-null     float64\n",
      " 5   Diesel / LIK                                87 non-null     float64\n",
      " 6   Durchschnittlicher Treibstoffpreis in CHF   87 non-null     float64\n",
      " 7   USD in CHF                                  87 non-null     float64\n",
      "dtypes: float64(7), object(1)\n",
      "memory usage: 6.1+ KB\n"
     ]
    },
    {
     "data": {
      "text/html": [
       "<div>\n",
       "<style scoped>\n",
       "    .dataframe tbody tr th:only-of-type {\n",
       "        vertical-align: middle;\n",
       "    }\n",
       "\n",
       "    .dataframe tbody tr th {\n",
       "        vertical-align: top;\n",
       "    }\n",
       "\n",
       "    .dataframe thead th {\n",
       "        text-align: right;\n",
       "    }\n",
       "</style>\n",
       "<table border=\"1\" class=\"dataframe\">\n",
       "  <thead>\n",
       "    <tr style=\"text-align: right;\">\n",
       "      <th></th>\n",
       "      <th>Month</th>\n",
       "      <th>Brent Spot Price (CHF per Liter)</th>\n",
       "      <th>WTI Spot Price (CHF per Liter)</th>\n",
       "      <th>Durchschnittlicher Treibstoffpreis in CHF</th>\n",
       "    </tr>\n",
       "  </thead>\n",
       "  <tbody>\n",
       "    <tr>\n",
       "      <th>0</th>\n",
       "      <td>2015-12</td>\n",
       "      <td>0.239205</td>\n",
       "      <td>0.234424</td>\n",
       "      <td>1.460000</td>\n",
       "    </tr>\n",
       "    <tr>\n",
       "      <th>1</th>\n",
       "      <td>2016-01</td>\n",
       "      <td>0.199272</td>\n",
       "      <td>0.205540</td>\n",
       "      <td>1.385542</td>\n",
       "    </tr>\n",
       "    <tr>\n",
       "      <th>2</th>\n",
       "      <td>2016-02</td>\n",
       "      <td>0.201995</td>\n",
       "      <td>0.190329</td>\n",
       "      <td>1.352705</td>\n",
       "    </tr>\n",
       "    <tr>\n",
       "      <th>3</th>\n",
       "      <td>2016-03</td>\n",
       "      <td>0.230969</td>\n",
       "      <td>0.226955</td>\n",
       "      <td>1.363636</td>\n",
       "    </tr>\n",
       "    <tr>\n",
       "      <th>4</th>\n",
       "      <td>2016-04</td>\n",
       "      <td>0.250938</td>\n",
       "      <td>0.245941</td>\n",
       "      <td>1.409363</td>\n",
       "    </tr>\n",
       "  </tbody>\n",
       "</table>\n",
       "</div>"
      ],
      "text/plain": [
       "     Month  Brent Spot Price (CHF per Liter)  WTI Spot Price (CHF per Liter)  \\\n",
       "0  2015-12                          0.239205                        0.234424   \n",
       "1  2016-01                          0.199272                        0.205540   \n",
       "2  2016-02                          0.201995                        0.190329   \n",
       "3  2016-03                          0.230969                        0.226955   \n",
       "4  2016-04                          0.250938                        0.245941   \n",
       "\n",
       "   Durchschnittlicher Treibstoffpreis in CHF  \n",
       "0                                   1.460000  \n",
       "1                                   1.385542  \n",
       "2                                   1.352705  \n",
       "3                                   1.363636  \n",
       "4                                   1.409363  "
      ]
     },
     "metadata": {},
     "output_type": "display_data"
    }
   ],
   "source": [
    "# read excel \n",
    "df_oil = pd.read_csv(\"oil.csv\", index_col=0)\n",
    "display(df_oil.head())\n",
    "df_benzin = pd.read_excel(\"Benzin-Diesel-data.xlsx\", usecols=[0, 5, 6, 7], sheet_name=\"Monatsansicht\")\n",
    "df_benzin[\"Month\"] = df_benzin[\"Monat\"].dt.strftime(\"%Y-%m\")\n",
    "display(df_benzin.head())\n",
    "\n",
    "# Make an inner join on month \n",
    "df = pd.merge(df_oil, df_benzin, on=\"Month\", how=\"inner\")\n",
    "df = df.drop(columns=[\"Monat\"])\n",
    "\n",
    "# create a column with mean value of last three cols\n",
    "df[\"Durchschnittlicher Treibstoffpreis in CHF\"] = df.iloc[:, 3:-1].mean(axis=1)\n",
    "display(df.head())\n",
    "\n",
    "# Read 1USD to CHF\n",
    "df_wechselkurs = pd.read_excel(\"1USD-in-CHF.xlsx\")\n",
    "display(df_wechselkurs.head())\n",
    "\n",
    "\n",
    "df_wechselkurs = df_wechselkurs[[\"Datum\", \"Monatlich\"]]\n",
    "# Date to month\n",
    "\n",
    "df_wechselkurs\n",
    "# convert Datum to datetime\n",
    "df_wechselkurs[\"Datum\"] = pd.to_datetime(df_wechselkurs[\"Datum\"])\n",
    "df_wechselkurs[\"Month\"] = df_wechselkurs[\"Datum\"].dt.strftime(\"%Y-%m\")\n",
    "# rename Monatlich to USD in CHF\n",
    "df_wechselkurs = df_wechselkurs.rename(columns={\"Monatlich\": \"USD in CHF\"})\n",
    "# turn df_wechselkurs USD in CHF to float\n",
    "df_wechselkurs[\"USD in CHF\"] = df_wechselkurs[\"USD in CHF\"].str.replace(\",\", \".\").astype(float)\n",
    "\n",
    "display(df_wechselkurs.head())\n",
    "\n",
    "# Inner join df and df_wechselkurs\n",
    "df = pd.merge(df, df_wechselkurs, on=\"Month\", how=\"inner\")\n",
    "df = df.drop(columns=[\"Datum\"])\n",
    "display(df.head())\n",
    "\n",
    "print=(df.info())\n",
    "# calculate the Brent in CHF\n",
    "df[\"Brent Spot Price (CHF per Barrel)\"] = df[\"Brent Spot Price (U.S. Dollars per Barrel)\"] * df[\"USD in CHF\"]\n",
    "df[\"WTI Spot Price (CHF per Barrel)\"] = df[\"WTI Spot Price (U.S. Dollars per Barrel)\"] * df[\"USD in CHF\"]\n",
    "\n",
    "#calculate pre liter price for brent and wti\n",
    "df[\"Brent Spot Price (CHF per Liter)\"] = df[\"Brent Spot Price (CHF per Barrel)\"] / 159\n",
    "df[\"WTI Spot Price (CHF per Liter)\"] = df[\"WTI Spot Price (CHF per Barrel)\"] / 159\n",
    "\n",
    "df_story = df[[\"Month\", \"Brent Spot Price (CHF per Liter)\", \"WTI Spot Price (CHF per Liter)\", \"Durchschnittlicher Treibstoffpreis in CHF\"]]\n",
    "display(df_story.head())\n"
   ]
  },
  {
   "cell_type": "code",
   "execution_count": 11,
   "metadata": {},
   "outputs": [
    {
     "data": {
      "application/vnd.plotly.v1+json": {
       "config": {
        "plotlyServerURL": "https://plot.ly"
       },
       "data": [
        {
         "name": "Brent Spot Price (CHF per Liter)",
         "type": "scatter",
         "x": [
          "2015-12",
          "2016-01",
          "2016-02",
          "2016-03",
          "2016-04",
          "2016-05",
          "2016-06",
          "2016-07",
          "2016-08",
          "2016-09",
          "2016-10",
          "2016-11",
          "2016-12",
          "2017-01",
          "2017-02",
          "2017-03",
          "2017-04",
          "2017-05",
          "2017-06",
          "2017-07",
          "2017-08",
          "2017-09",
          "2017-10",
          "2017-11",
          "2017-12",
          "2018-01",
          "2018-02",
          "2018-03",
          "2018-04",
          "2018-05",
          "2018-06",
          "2018-07",
          "2018-08",
          "2018-09",
          "2018-10",
          "2018-11",
          "2018-12",
          "2019-01",
          "2019-02",
          "2019-03",
          "2019-04",
          "2019-05",
          "2019-06",
          "2019-07",
          "2019-08",
          "2019-09",
          "2019-10",
          "2019-11",
          "2019-12",
          "2020-01",
          "2020-02",
          "2020-03",
          "2020-04",
          "2020-05",
          "2020-06",
          "2020-07",
          "2020-08",
          "2020-09",
          "2020-10",
          "2020-11",
          "2020-12",
          "2021-01",
          "2021-02",
          "2021-03",
          "2021-04",
          "2021-05",
          "2021-06",
          "2021-07",
          "2021-08",
          "2021-09",
          "2021-10",
          "2021-11",
          "2021-12",
          "2022-01",
          "2022-02",
          "2022-03",
          "2022-04",
          "2022-05",
          "2022-06",
          "2022-07",
          "2022-08",
          "2022-09",
          "2022-10",
          "2022-11",
          "2022-12",
          "2023-01",
          "2023-02"
         ],
         "y": [
          0.23920474706043202,
          0.19927182389937106,
          0.20199457232704401,
          0.2309689802744426,
          0.2509384171907757,
          0.292036988918838,
          0.29612901543739284,
          0.2738956310272537,
          0.2835925633032541,
          0.2845024545454546,
          0.30800429260257567,
          0.2858700616951184,
          0.3411138867924528,
          0.3395423815513626,
          0.3470237056603774,
          0.3254008736669401,
          0.32733556769281696,
          0.3062637888980039,
          0.27940474842767293,
          0.29465214734950584,
          0.31168941755537327,
          0.3418614195867026,
          0.36077960977701545,
          0.38788073584905663,
          0.39446088381330685,
          0.4045582161234992,
          0.3879613018867924,
          0.39585088050314465,
          0.44860839622641513,
          0.4765710151515152,
          0.4633685235100329,
          0.46238349313893645,
          0.4418293929450369,
          0.487189137735849,
          0.513917258955428,
          0.40669188164665526,
          0.3540592023677396,
          0.3714030703259005,
          0.4015029877358491,
          0.4139692219227314,
          0.45652054507337525,
          0.4479845709598031,
          0.394208855345912,
          0.3995146655728739,
          0.36758173470554606,
          0.3942669685534592,
          0.37040864643150123,
          0.3974796376160527,
          0.409702,
          0.38656141919606235,
          0.3378974974842767,
          0.19343722126929672,
          0.11210079664570231,
          0.17894037735849058,
          0.2398534811320755,
          0.24822095679518733,
          0.254207396226415,
          0.23688942452830186,
          0.23170915923384794,
          0.2440715363881402,
          0.2782979090909091,
          0.3066999509433962,
          0.35572023459119495,
          0.38809933333333335,
          0.37198853968253964,
          0.38735726289308176,
          0.42559413636363636,
          0.4280202144082333,
          0.4071297843665769,
          0.43639097341337907,
          0.4810533333333333,
          0.4682549056603773,
          0.42580285991995426,
          0.5042874540281521,
          0.5599273044025158,
          0.6803172173913044,
          0.642125655345912,
          0.6823674213836478,
          0.7369603045822102,
          0.6697240539083558,
          0.6174608542024015,
          0.5570116443682105,
          0.5881336575471698,
          0.5437207255574615,
          0.4711504012578616,
          0.4754265680388794,
          0.48932911006289315
         ]
        },
        {
         "name": "WTI Spot Price (CHF per Liter)",
         "type": "scatter",
         "x": [
          "2015-12",
          "2016-01",
          "2016-02",
          "2016-03",
          "2016-04",
          "2016-05",
          "2016-06",
          "2016-07",
          "2016-08",
          "2016-09",
          "2016-10",
          "2016-11",
          "2016-12",
          "2017-01",
          "2017-02",
          "2017-03",
          "2017-04",
          "2017-05",
          "2017-06",
          "2017-07",
          "2017-08",
          "2017-09",
          "2017-10",
          "2017-11",
          "2017-12",
          "2018-01",
          "2018-02",
          "2018-03",
          "2018-04",
          "2018-05",
          "2018-06",
          "2018-07",
          "2018-08",
          "2018-09",
          "2018-10",
          "2018-11",
          "2018-12",
          "2019-01",
          "2019-02",
          "2019-03",
          "2019-04",
          "2019-05",
          "2019-06",
          "2019-07",
          "2019-08",
          "2019-09",
          "2019-10",
          "2019-11",
          "2019-12",
          "2020-01",
          "2020-02",
          "2020-03",
          "2020-04",
          "2020-05",
          "2020-06",
          "2020-07",
          "2020-08",
          "2020-09",
          "2020-10",
          "2020-11",
          "2020-12",
          "2021-01",
          "2021-02",
          "2021-03",
          "2021-04",
          "2021-05",
          "2021-06",
          "2021-07",
          "2021-08",
          "2021-09",
          "2021-10",
          "2021-11",
          "2021-12",
          "2022-01",
          "2022-02",
          "2022-03",
          "2022-04",
          "2022-05",
          "2022-06",
          "2022-07",
          "2022-08",
          "2022-09",
          "2022-10",
          "2022-11",
          "2022-12",
          "2023-01",
          "2023-02"
         ],
         "y": [
          0.2344244872846596,
          0.20554018773584906,
          0.19032927044025158,
          0.22695478044596915,
          0.2459412009583708,
          0.29184955495657383,
          0.29925926072041165,
          0.27206524025157236,
          0.27667212906754174,
          0.2758187272727273,
          0.30957693680742737,
          0.29211522491764,
          0.3326764192872118,
          0.32664752704402517,
          0.338162542204568,
          0.3111375898277276,
          0.31952970870572656,
          0.29500458776443683,
          0.2722313238993711,
          0.2834197523998676,
          0.289581275635767,
          0.3033188427672956,
          0.32357725128644943,
          0.3503042210242588,
          0.35467890220125786,
          0.3730572938005392,
          0.3696195908639523,
          0.3761118742138365,
          0.4127320649895178,
          0.43382071583762155,
          0.4226929224318658,
          0.44200448068283915,
          0.41458304840032817,
          0.43371637835153926,
          0.4486980169537872,
          0.3577952669811321,
          0.3056707805730258,
          0.3213080846197827,
          0.3451668339622641,
          0.36397674034141964,
          0.40928154836777475,
          0.38220051189499576,
          0.3355076729559749,
          0.3585061323749626,
          0.3412098704974271,
          0.35680837915543573,
          0.3347405646704949,
          0.35858864528301887,
          0.36446606518010294,
          0.3493669296740995,
          0.3072993088050315,
          0.1764954991423671,
          0.1004513327343516,
          0.1726683962264151,
          0.22818124528301884,
          0.23365319660924258,
          0.24058697813716678,
          0.22950494878706196,
          0.2271335211549457,
          0.23403816285998014,
          0.2617725,
          0.29121444819596154,
          0.33726958490566045,
          0.36984272463768125,
          0.3545020859538784,
          0.3688632045522611,
          0.4152055368782161,
          0.4135022367066895,
          0.3897695969125215,
          0.4197385309973045,
          0.4691826163522012,
          0.4568288662092624,
          0.411418368210406,
          0.4853136250374363,
          0.52818066163522,
          0.6295880929723816,
          0.6230831352201258,
          0.6623799748427673,
          0.6884261192109776,
          0.6105258316861336,
          0.5757759967186219,
          0.5237854282447113,
          0.5514612867924529,
          0.5018186121593291,
          0.44553643725666364,
          0.4501162283018868,
          0.45524542270771273
         ]
        }
       ],
       "layout": {
        "annotations": [
         {
          "font": {
           "size": 15
          },
          "showarrow": false,
          "text": "Corona Pandemie",
          "x": "2020-01",
          "xanchor": "left",
          "xref": "x",
          "y": 1,
          "yanchor": "top",
          "yref": "y domain"
         },
         {
          "font": {
           "size": 15
          },
          "showarrow": false,
          "text": "Ukraine Krise",
          "x": "2022-03",
          "xanchor": "left",
          "xref": "x",
          "y": 1,
          "yanchor": "top",
          "yref": "y domain"
         },
         {
          "font": {
           "size": 15
          },
          "showarrow": false,
          "text": "\"Normalzustand\"",
          "x": "2015-12",
          "xanchor": "left",
          "xref": "x",
          "y": 1,
          "yanchor": "top",
          "yref": "y domain"
         }
        ],
        "legend": {
         "orientation": "h",
         "x": 1,
         "xanchor": "right",
         "y": 1.02,
         "yanchor": "bottom"
        },
        "shapes": [
         {
          "fillcolor": "red",
          "line": {
           "width": 1
          },
          "opacity": 0.15,
          "type": "rect",
          "x0": "2020-01",
          "x1": "2022-03",
          "xref": "x",
          "y0": 0,
          "y1": 1,
          "yref": "y domain"
         },
         {
          "fillcolor": "blue",
          "line": {
           "width": 1
          },
          "opacity": 0.15,
          "type": "rect",
          "x0": "2022-03",
          "x1": "2023-02",
          "xref": "x",
          "y0": 0,
          "y1": 1,
          "yref": "y domain"
         },
         {
          "fillcolor": "green",
          "line": {
           "width": 1
          },
          "opacity": 0.15,
          "type": "rect",
          "x0": "2015-12",
          "x1": "2020-01",
          "xref": "x",
          "y0": 0,
          "y1": 1,
          "yref": "y domain"
         }
        ],
        "template": {
         "data": {
          "bar": [
           {
            "error_x": {
             "color": "#2a3f5f"
            },
            "error_y": {
             "color": "#2a3f5f"
            },
            "marker": {
             "line": {
              "color": "#E5ECF6",
              "width": 0.5
             },
             "pattern": {
              "fillmode": "overlay",
              "size": 10,
              "solidity": 0.2
             }
            },
            "type": "bar"
           }
          ],
          "barpolar": [
           {
            "marker": {
             "line": {
              "color": "#E5ECF6",
              "width": 0.5
             },
             "pattern": {
              "fillmode": "overlay",
              "size": 10,
              "solidity": 0.2
             }
            },
            "type": "barpolar"
           }
          ],
          "carpet": [
           {
            "aaxis": {
             "endlinecolor": "#2a3f5f",
             "gridcolor": "white",
             "linecolor": "white",
             "minorgridcolor": "white",
             "startlinecolor": "#2a3f5f"
            },
            "baxis": {
             "endlinecolor": "#2a3f5f",
             "gridcolor": "white",
             "linecolor": "white",
             "minorgridcolor": "white",
             "startlinecolor": "#2a3f5f"
            },
            "type": "carpet"
           }
          ],
          "choropleth": [
           {
            "colorbar": {
             "outlinewidth": 0,
             "ticks": ""
            },
            "type": "choropleth"
           }
          ],
          "contour": [
           {
            "colorbar": {
             "outlinewidth": 0,
             "ticks": ""
            },
            "colorscale": [
             [
              0,
              "#0d0887"
             ],
             [
              0.1111111111111111,
              "#46039f"
             ],
             [
              0.2222222222222222,
              "#7201a8"
             ],
             [
              0.3333333333333333,
              "#9c179e"
             ],
             [
              0.4444444444444444,
              "#bd3786"
             ],
             [
              0.5555555555555556,
              "#d8576b"
             ],
             [
              0.6666666666666666,
              "#ed7953"
             ],
             [
              0.7777777777777778,
              "#fb9f3a"
             ],
             [
              0.8888888888888888,
              "#fdca26"
             ],
             [
              1,
              "#f0f921"
             ]
            ],
            "type": "contour"
           }
          ],
          "contourcarpet": [
           {
            "colorbar": {
             "outlinewidth": 0,
             "ticks": ""
            },
            "type": "contourcarpet"
           }
          ],
          "heatmap": [
           {
            "colorbar": {
             "outlinewidth": 0,
             "ticks": ""
            },
            "colorscale": [
             [
              0,
              "#0d0887"
             ],
             [
              0.1111111111111111,
              "#46039f"
             ],
             [
              0.2222222222222222,
              "#7201a8"
             ],
             [
              0.3333333333333333,
              "#9c179e"
             ],
             [
              0.4444444444444444,
              "#bd3786"
             ],
             [
              0.5555555555555556,
              "#d8576b"
             ],
             [
              0.6666666666666666,
              "#ed7953"
             ],
             [
              0.7777777777777778,
              "#fb9f3a"
             ],
             [
              0.8888888888888888,
              "#fdca26"
             ],
             [
              1,
              "#f0f921"
             ]
            ],
            "type": "heatmap"
           }
          ],
          "heatmapgl": [
           {
            "colorbar": {
             "outlinewidth": 0,
             "ticks": ""
            },
            "colorscale": [
             [
              0,
              "#0d0887"
             ],
             [
              0.1111111111111111,
              "#46039f"
             ],
             [
              0.2222222222222222,
              "#7201a8"
             ],
             [
              0.3333333333333333,
              "#9c179e"
             ],
             [
              0.4444444444444444,
              "#bd3786"
             ],
             [
              0.5555555555555556,
              "#d8576b"
             ],
             [
              0.6666666666666666,
              "#ed7953"
             ],
             [
              0.7777777777777778,
              "#fb9f3a"
             ],
             [
              0.8888888888888888,
              "#fdca26"
             ],
             [
              1,
              "#f0f921"
             ]
            ],
            "type": "heatmapgl"
           }
          ],
          "histogram": [
           {
            "marker": {
             "pattern": {
              "fillmode": "overlay",
              "size": 10,
              "solidity": 0.2
             }
            },
            "type": "histogram"
           }
          ],
          "histogram2d": [
           {
            "colorbar": {
             "outlinewidth": 0,
             "ticks": ""
            },
            "colorscale": [
             [
              0,
              "#0d0887"
             ],
             [
              0.1111111111111111,
              "#46039f"
             ],
             [
              0.2222222222222222,
              "#7201a8"
             ],
             [
              0.3333333333333333,
              "#9c179e"
             ],
             [
              0.4444444444444444,
              "#bd3786"
             ],
             [
              0.5555555555555556,
              "#d8576b"
             ],
             [
              0.6666666666666666,
              "#ed7953"
             ],
             [
              0.7777777777777778,
              "#fb9f3a"
             ],
             [
              0.8888888888888888,
              "#fdca26"
             ],
             [
              1,
              "#f0f921"
             ]
            ],
            "type": "histogram2d"
           }
          ],
          "histogram2dcontour": [
           {
            "colorbar": {
             "outlinewidth": 0,
             "ticks": ""
            },
            "colorscale": [
             [
              0,
              "#0d0887"
             ],
             [
              0.1111111111111111,
              "#46039f"
             ],
             [
              0.2222222222222222,
              "#7201a8"
             ],
             [
              0.3333333333333333,
              "#9c179e"
             ],
             [
              0.4444444444444444,
              "#bd3786"
             ],
             [
              0.5555555555555556,
              "#d8576b"
             ],
             [
              0.6666666666666666,
              "#ed7953"
             ],
             [
              0.7777777777777778,
              "#fb9f3a"
             ],
             [
              0.8888888888888888,
              "#fdca26"
             ],
             [
              1,
              "#f0f921"
             ]
            ],
            "type": "histogram2dcontour"
           }
          ],
          "mesh3d": [
           {
            "colorbar": {
             "outlinewidth": 0,
             "ticks": ""
            },
            "type": "mesh3d"
           }
          ],
          "parcoords": [
           {
            "line": {
             "colorbar": {
              "outlinewidth": 0,
              "ticks": ""
             }
            },
            "type": "parcoords"
           }
          ],
          "pie": [
           {
            "automargin": true,
            "type": "pie"
           }
          ],
          "scatter": [
           {
            "fillpattern": {
             "fillmode": "overlay",
             "size": 10,
             "solidity": 0.2
            },
            "type": "scatter"
           }
          ],
          "scatter3d": [
           {
            "line": {
             "colorbar": {
              "outlinewidth": 0,
              "ticks": ""
             }
            },
            "marker": {
             "colorbar": {
              "outlinewidth": 0,
              "ticks": ""
             }
            },
            "type": "scatter3d"
           }
          ],
          "scattercarpet": [
           {
            "marker": {
             "colorbar": {
              "outlinewidth": 0,
              "ticks": ""
             }
            },
            "type": "scattercarpet"
           }
          ],
          "scattergeo": [
           {
            "marker": {
             "colorbar": {
              "outlinewidth": 0,
              "ticks": ""
             }
            },
            "type": "scattergeo"
           }
          ],
          "scattergl": [
           {
            "marker": {
             "colorbar": {
              "outlinewidth": 0,
              "ticks": ""
             }
            },
            "type": "scattergl"
           }
          ],
          "scattermapbox": [
           {
            "marker": {
             "colorbar": {
              "outlinewidth": 0,
              "ticks": ""
             }
            },
            "type": "scattermapbox"
           }
          ],
          "scatterpolar": [
           {
            "marker": {
             "colorbar": {
              "outlinewidth": 0,
              "ticks": ""
             }
            },
            "type": "scatterpolar"
           }
          ],
          "scatterpolargl": [
           {
            "marker": {
             "colorbar": {
              "outlinewidth": 0,
              "ticks": ""
             }
            },
            "type": "scatterpolargl"
           }
          ],
          "scatterternary": [
           {
            "marker": {
             "colorbar": {
              "outlinewidth": 0,
              "ticks": ""
             }
            },
            "type": "scatterternary"
           }
          ],
          "surface": [
           {
            "colorbar": {
             "outlinewidth": 0,
             "ticks": ""
            },
            "colorscale": [
             [
              0,
              "#0d0887"
             ],
             [
              0.1111111111111111,
              "#46039f"
             ],
             [
              0.2222222222222222,
              "#7201a8"
             ],
             [
              0.3333333333333333,
              "#9c179e"
             ],
             [
              0.4444444444444444,
              "#bd3786"
             ],
             [
              0.5555555555555556,
              "#d8576b"
             ],
             [
              0.6666666666666666,
              "#ed7953"
             ],
             [
              0.7777777777777778,
              "#fb9f3a"
             ],
             [
              0.8888888888888888,
              "#fdca26"
             ],
             [
              1,
              "#f0f921"
             ]
            ],
            "type": "surface"
           }
          ],
          "table": [
           {
            "cells": {
             "fill": {
              "color": "#EBF0F8"
             },
             "line": {
              "color": "white"
             }
            },
            "header": {
             "fill": {
              "color": "#C8D4E3"
             },
             "line": {
              "color": "white"
             }
            },
            "type": "table"
           }
          ]
         },
         "layout": {
          "annotationdefaults": {
           "arrowcolor": "#2a3f5f",
           "arrowhead": 0,
           "arrowwidth": 1
          },
          "autotypenumbers": "strict",
          "coloraxis": {
           "colorbar": {
            "outlinewidth": 0,
            "ticks": ""
           }
          },
          "colorscale": {
           "diverging": [
            [
             0,
             "#8e0152"
            ],
            [
             0.1,
             "#c51b7d"
            ],
            [
             0.2,
             "#de77ae"
            ],
            [
             0.3,
             "#f1b6da"
            ],
            [
             0.4,
             "#fde0ef"
            ],
            [
             0.5,
             "#f7f7f7"
            ],
            [
             0.6,
             "#e6f5d0"
            ],
            [
             0.7,
             "#b8e186"
            ],
            [
             0.8,
             "#7fbc41"
            ],
            [
             0.9,
             "#4d9221"
            ],
            [
             1,
             "#276419"
            ]
           ],
           "sequential": [
            [
             0,
             "#0d0887"
            ],
            [
             0.1111111111111111,
             "#46039f"
            ],
            [
             0.2222222222222222,
             "#7201a8"
            ],
            [
             0.3333333333333333,
             "#9c179e"
            ],
            [
             0.4444444444444444,
             "#bd3786"
            ],
            [
             0.5555555555555556,
             "#d8576b"
            ],
            [
             0.6666666666666666,
             "#ed7953"
            ],
            [
             0.7777777777777778,
             "#fb9f3a"
            ],
            [
             0.8888888888888888,
             "#fdca26"
            ],
            [
             1,
             "#f0f921"
            ]
           ],
           "sequentialminus": [
            [
             0,
             "#0d0887"
            ],
            [
             0.1111111111111111,
             "#46039f"
            ],
            [
             0.2222222222222222,
             "#7201a8"
            ],
            [
             0.3333333333333333,
             "#9c179e"
            ],
            [
             0.4444444444444444,
             "#bd3786"
            ],
            [
             0.5555555555555556,
             "#d8576b"
            ],
            [
             0.6666666666666666,
             "#ed7953"
            ],
            [
             0.7777777777777778,
             "#fb9f3a"
            ],
            [
             0.8888888888888888,
             "#fdca26"
            ],
            [
             1,
             "#f0f921"
            ]
           ]
          },
          "colorway": [
           "#636efa",
           "#EF553B",
           "#00cc96",
           "#ab63fa",
           "#FFA15A",
           "#19d3f3",
           "#FF6692",
           "#B6E880",
           "#FF97FF",
           "#FECB52"
          ],
          "font": {
           "color": "#2a3f5f"
          },
          "geo": {
           "bgcolor": "white",
           "lakecolor": "white",
           "landcolor": "#E5ECF6",
           "showlakes": true,
           "showland": true,
           "subunitcolor": "white"
          },
          "hoverlabel": {
           "align": "left"
          },
          "hovermode": "closest",
          "mapbox": {
           "style": "light"
          },
          "paper_bgcolor": "white",
          "plot_bgcolor": "#E5ECF6",
          "polar": {
           "angularaxis": {
            "gridcolor": "white",
            "linecolor": "white",
            "ticks": ""
           },
           "bgcolor": "#E5ECF6",
           "radialaxis": {
            "gridcolor": "white",
            "linecolor": "white",
            "ticks": ""
           }
          },
          "scene": {
           "xaxis": {
            "backgroundcolor": "#E5ECF6",
            "gridcolor": "white",
            "gridwidth": 2,
            "linecolor": "white",
            "showbackground": true,
            "ticks": "",
            "zerolinecolor": "white"
           },
           "yaxis": {
            "backgroundcolor": "#E5ECF6",
            "gridcolor": "white",
            "gridwidth": 2,
            "linecolor": "white",
            "showbackground": true,
            "ticks": "",
            "zerolinecolor": "white"
           },
           "zaxis": {
            "backgroundcolor": "#E5ECF6",
            "gridcolor": "white",
            "gridwidth": 2,
            "linecolor": "white",
            "showbackground": true,
            "ticks": "",
            "zerolinecolor": "white"
           }
          },
          "shapedefaults": {
           "line": {
            "color": "#2a3f5f"
           }
          },
          "ternary": {
           "aaxis": {
            "gridcolor": "white",
            "linecolor": "white",
            "ticks": ""
           },
           "baxis": {
            "gridcolor": "white",
            "linecolor": "white",
            "ticks": ""
           },
           "bgcolor": "#E5ECF6",
           "caxis": {
            "gridcolor": "white",
            "linecolor": "white",
            "ticks": ""
           }
          },
          "title": {
           "x": 0.05
          },
          "xaxis": {
           "automargin": true,
           "gridcolor": "white",
           "linecolor": "white",
           "ticks": "",
           "title": {
            "standoff": 15
           },
           "zerolinecolor": "white",
           "zerolinewidth": 2
          },
          "yaxis": {
           "automargin": true,
           "gridcolor": "white",
           "linecolor": "white",
           "ticks": "",
           "title": {
            "standoff": 15
           },
           "zerolinecolor": "white",
           "zerolinewidth": 2
          }
         }
        },
        "title": {
         "text": "Brent and WTI Spot Price (CHF per Liter)"
        },
        "xaxis": {
         "title": {
          "text": "Jahr"
         }
        },
        "yaxis": {
         "title": {
          "text": "CHF per Liter"
         }
        }
       }
      }
     },
     "metadata": {},
     "output_type": "display_data"
    }
   ],
   "source": [
    "# plot WTI and Brent\n",
    "fig = go.Figure()\n",
    "fig.add_trace(go.Scatter(x=df_story[\"Month\"], y=df_story[\"Brent Spot Price (CHF per Liter)\"], name=\"Brent Spot Price (CHF per Liter)\"))\n",
    "fig.add_trace(go.Scatter(x=df_story[\"Month\"], y=df_story[\"WTI Spot Price (CHF per Liter)\"], name=\"WTI Spot Price (CHF per Liter)\"))\n",
    "# legend on bottom left\n",
    "fig.update_layout(legend=dict(\n",
    "    orientation=\"h\",\n",
    "    yanchor=\"bottom\",\n",
    "    y=1.02,\n",
    "    xanchor=\"right\",\n",
    "    x=1\n",
    "))\n",
    "fig.update_layout(title_text=\"Brent and WTI Spot Price (CHF per Liter)\")\n",
    "# add x and y axis title\n",
    "fig.update_xaxes(title_text=\"Jahr\")\n",
    "fig.update_yaxes(title_text=\"CHF per Liter\")\n",
    "fig.add_vrect(x0=\"2020-01\", x1=\"2022-03\", fillcolor=\"red\", opacity=0.15, line_width=1.0, annotation_text=\"Corona Pandemie\", annotation_position=\"top left\", annotation=dict(font_size=15))\n",
    "fig.add_vrect(x0=\"2022-03\", x1=\"2023-02\", fillcolor=\"blue\", opacity=0.15, line_width=1.0, annotation_text=\"Ukraine Krise\", annotation_position=\"top left\", annotation=dict(font_size=15))\n",
    "fig.add_vrect(x0=\"2015-12\", x1=\"2020-01\", fillcolor=\"green\", opacity=0.15, line_width=1.0, annotation_text=\"\\\"Normalzustand\\\"\", annotation_position=\"top left\", annotation=dict(font_size=15))\n",
    "fig.show()\n",
    "# export to html\n",
    "fig.write_html(\"Brent and WTI Spot Price (CHF per Liter).html\")"
   ]
  },
  {
   "cell_type": "code",
   "execution_count": 20,
   "metadata": {},
   "outputs": [
    {
     "data": {
      "application/vnd.plotly.v1+json": {
       "config": {
        "plotlyServerURL": "https://plot.ly"
       },
       "data": [
        {
         "line": {
          "color": "black",
          "width": 2
         },
         "name": "Durchschnittlicher Treibstoffpreis in CHF",
         "type": "scatter",
         "x": [
          "2015-12",
          "2016-01",
          "2016-02",
          "2016-03",
          "2016-04",
          "2016-05",
          "2016-06",
          "2016-07",
          "2016-08",
          "2016-09",
          "2016-10",
          "2016-11",
          "2016-12",
          "2017-01",
          "2017-02",
          "2017-03",
          "2017-04",
          "2017-05",
          "2017-06",
          "2017-07",
          "2017-08",
          "2017-09",
          "2017-10",
          "2017-11",
          "2017-12",
          "2018-01",
          "2018-02",
          "2018-03",
          "2018-04",
          "2018-05",
          "2018-06",
          "2018-07",
          "2018-08",
          "2018-09",
          "2018-10",
          "2018-11",
          "2018-12",
          "2019-01",
          "2019-02",
          "2019-03",
          "2019-04",
          "2019-05",
          "2019-06",
          "2019-07",
          "2019-08",
          "2019-09",
          "2019-10",
          "2019-11",
          "2019-12",
          "2020-01",
          "2020-02",
          "2020-03",
          "2020-04",
          "2020-05",
          "2020-06",
          "2020-07",
          "2020-08",
          "2020-09",
          "2020-10",
          "2020-11",
          "2020-12",
          "2021-01",
          "2021-02",
          "2021-03",
          "2021-04",
          "2021-05",
          "2021-06",
          "2021-07",
          "2021-08",
          "2021-09",
          "2021-10",
          "2021-11",
          "2021-12",
          "2022-01",
          "2022-02",
          "2022-03",
          "2022-04",
          "2022-05",
          "2022-06",
          "2022-07",
          "2022-08",
          "2022-09",
          "2022-10",
          "2022-11",
          "2022-12",
          "2023-01",
          "2023-02"
         ],
         "y": [
          1.46,
          1.385542168674699,
          1.3527054108216432,
          1.3636363636363638,
          1.4093625498007967,
          1.4562624254473162,
          1.484607745779543,
          1.4705882352941178,
          1.4371257485029938,
          1.4720558882235528,
          1.4955134596211366,
          1.4985014985014986,
          1.495,
          1.56,
          1.5637450199203187,
          1.5392254220456802,
          1.5262636273538157,
          1.5148514851485149,
          1.506442021803766,
          1.4910536779324057,
          1.5159045725646125,
          1.5411298315163529,
          1.5609514370664024,
          1.5758176412289395,
          1.5773809523809523,
          1.5888778550148956,
          1.6023738872403563,
          1.561576354679803,
          1.5929203539823007,
          1.6601371204701274,
          1.6895200783545543,
          1.6797642436149314,
          1.6797642436149314,
          1.692836113837095,
          1.7042115572967678,
          1.699410609037328,
          1.6108374384236455,
          1.5695952615992104,
          1.5535889872173057,
          1.5655577299412915,
          1.6162109375,
          1.6699123661148976,
          1.650438169425511,
          1.6503428011753183,
          1.6503428011753183,
          1.602941176470588,
          1.606090373280943,
          1.5880039331366764,
          1.5929203539823007,
          1.6108374384236455,
          1.579724409448819,
          1.5142576204523106,
          1.441263573543929,
          1.4116485686080946,
          1.420118343195266,
          1.4328063241106719,
          1.4229249011857705,
          1.4278656126482212,
          1.4229249011857705,
          1.4257425742574257,
          1.4469772051536172,
          1.5113974231912786,
          1.5677546983184967,
          1.6321499013806706,
          1.6486220472440944,
          1.6584887144259077,
          1.6715686274509804,
          1.7222767419038272,
          1.7189030362389817,
          1.707436399217221,
          1.7609756097560978,
          1.8097560975609757,
          1.7822265625,
          1.7641325536062378,
          1.8441432720232331,
          1.9749518304431601,
          2.0009596928982725,
          2.011439466158246,
          2.191650853889943,
          2.191650853889943,
          2.095553453169347,
          1.9763033175355451,
          1.8578199052132702,
          1.881516587677725,
          1.761633428300095,
          1.7280453257790365,
          1.7619493908153703
         ]
        }
       ],
       "layout": {
        "annotations": [
         {
          "font": {
           "size": 15
          },
          "showarrow": false,
          "text": "Corona Pandemie",
          "x": "2020-01",
          "xanchor": "left",
          "xref": "x",
          "y": 1,
          "yanchor": "top",
          "yref": "y domain"
         },
         {
          "font": {
           "size": 15
          },
          "showarrow": false,
          "text": "Ukraine Krise",
          "x": "2022-03",
          "xanchor": "left",
          "xref": "x",
          "y": 1,
          "yanchor": "top",
          "yref": "y domain"
         },
         {
          "font": {
           "size": 15
          },
          "showarrow": false,
          "text": "\"Normalzustand\"",
          "x": "2015-12",
          "xanchor": "left",
          "xref": "x",
          "y": 1,
          "yanchor": "top",
          "yref": "y domain"
         }
        ],
        "legend": {
         "orientation": "h",
         "x": 1,
         "xanchor": "right",
         "y": 1.02,
         "yanchor": "bottom"
        },
        "shapes": [
         {
          "fillcolor": "red",
          "line": {
           "width": 1
          },
          "opacity": 0.15,
          "type": "rect",
          "x0": "2020-01",
          "x1": "2022-03",
          "xref": "x",
          "y0": 0,
          "y1": 1,
          "yref": "y domain"
         },
         {
          "fillcolor": "blue",
          "line": {
           "width": 1
          },
          "opacity": 0.15,
          "type": "rect",
          "x0": "2022-03",
          "x1": "2023-02",
          "xref": "x",
          "y0": 0,
          "y1": 1,
          "yref": "y domain"
         },
         {
          "fillcolor": "green",
          "line": {
           "width": 1
          },
          "opacity": 0.15,
          "type": "rect",
          "x0": "2015-12",
          "x1": "2020-01",
          "xref": "x",
          "y0": 0,
          "y1": 1,
          "yref": "y domain"
         }
        ],
        "template": {
         "data": {
          "bar": [
           {
            "error_x": {
             "color": "#2a3f5f"
            },
            "error_y": {
             "color": "#2a3f5f"
            },
            "marker": {
             "line": {
              "color": "#E5ECF6",
              "width": 0.5
             },
             "pattern": {
              "fillmode": "overlay",
              "size": 10,
              "solidity": 0.2
             }
            },
            "type": "bar"
           }
          ],
          "barpolar": [
           {
            "marker": {
             "line": {
              "color": "#E5ECF6",
              "width": 0.5
             },
             "pattern": {
              "fillmode": "overlay",
              "size": 10,
              "solidity": 0.2
             }
            },
            "type": "barpolar"
           }
          ],
          "carpet": [
           {
            "aaxis": {
             "endlinecolor": "#2a3f5f",
             "gridcolor": "white",
             "linecolor": "white",
             "minorgridcolor": "white",
             "startlinecolor": "#2a3f5f"
            },
            "baxis": {
             "endlinecolor": "#2a3f5f",
             "gridcolor": "white",
             "linecolor": "white",
             "minorgridcolor": "white",
             "startlinecolor": "#2a3f5f"
            },
            "type": "carpet"
           }
          ],
          "choropleth": [
           {
            "colorbar": {
             "outlinewidth": 0,
             "ticks": ""
            },
            "type": "choropleth"
           }
          ],
          "contour": [
           {
            "colorbar": {
             "outlinewidth": 0,
             "ticks": ""
            },
            "colorscale": [
             [
              0,
              "#0d0887"
             ],
             [
              0.1111111111111111,
              "#46039f"
             ],
             [
              0.2222222222222222,
              "#7201a8"
             ],
             [
              0.3333333333333333,
              "#9c179e"
             ],
             [
              0.4444444444444444,
              "#bd3786"
             ],
             [
              0.5555555555555556,
              "#d8576b"
             ],
             [
              0.6666666666666666,
              "#ed7953"
             ],
             [
              0.7777777777777778,
              "#fb9f3a"
             ],
             [
              0.8888888888888888,
              "#fdca26"
             ],
             [
              1,
              "#f0f921"
             ]
            ],
            "type": "contour"
           }
          ],
          "contourcarpet": [
           {
            "colorbar": {
             "outlinewidth": 0,
             "ticks": ""
            },
            "type": "contourcarpet"
           }
          ],
          "heatmap": [
           {
            "colorbar": {
             "outlinewidth": 0,
             "ticks": ""
            },
            "colorscale": [
             [
              0,
              "#0d0887"
             ],
             [
              0.1111111111111111,
              "#46039f"
             ],
             [
              0.2222222222222222,
              "#7201a8"
             ],
             [
              0.3333333333333333,
              "#9c179e"
             ],
             [
              0.4444444444444444,
              "#bd3786"
             ],
             [
              0.5555555555555556,
              "#d8576b"
             ],
             [
              0.6666666666666666,
              "#ed7953"
             ],
             [
              0.7777777777777778,
              "#fb9f3a"
             ],
             [
              0.8888888888888888,
              "#fdca26"
             ],
             [
              1,
              "#f0f921"
             ]
            ],
            "type": "heatmap"
           }
          ],
          "heatmapgl": [
           {
            "colorbar": {
             "outlinewidth": 0,
             "ticks": ""
            },
            "colorscale": [
             [
              0,
              "#0d0887"
             ],
             [
              0.1111111111111111,
              "#46039f"
             ],
             [
              0.2222222222222222,
              "#7201a8"
             ],
             [
              0.3333333333333333,
              "#9c179e"
             ],
             [
              0.4444444444444444,
              "#bd3786"
             ],
             [
              0.5555555555555556,
              "#d8576b"
             ],
             [
              0.6666666666666666,
              "#ed7953"
             ],
             [
              0.7777777777777778,
              "#fb9f3a"
             ],
             [
              0.8888888888888888,
              "#fdca26"
             ],
             [
              1,
              "#f0f921"
             ]
            ],
            "type": "heatmapgl"
           }
          ],
          "histogram": [
           {
            "marker": {
             "pattern": {
              "fillmode": "overlay",
              "size": 10,
              "solidity": 0.2
             }
            },
            "type": "histogram"
           }
          ],
          "histogram2d": [
           {
            "colorbar": {
             "outlinewidth": 0,
             "ticks": ""
            },
            "colorscale": [
             [
              0,
              "#0d0887"
             ],
             [
              0.1111111111111111,
              "#46039f"
             ],
             [
              0.2222222222222222,
              "#7201a8"
             ],
             [
              0.3333333333333333,
              "#9c179e"
             ],
             [
              0.4444444444444444,
              "#bd3786"
             ],
             [
              0.5555555555555556,
              "#d8576b"
             ],
             [
              0.6666666666666666,
              "#ed7953"
             ],
             [
              0.7777777777777778,
              "#fb9f3a"
             ],
             [
              0.8888888888888888,
              "#fdca26"
             ],
             [
              1,
              "#f0f921"
             ]
            ],
            "type": "histogram2d"
           }
          ],
          "histogram2dcontour": [
           {
            "colorbar": {
             "outlinewidth": 0,
             "ticks": ""
            },
            "colorscale": [
             [
              0,
              "#0d0887"
             ],
             [
              0.1111111111111111,
              "#46039f"
             ],
             [
              0.2222222222222222,
              "#7201a8"
             ],
             [
              0.3333333333333333,
              "#9c179e"
             ],
             [
              0.4444444444444444,
              "#bd3786"
             ],
             [
              0.5555555555555556,
              "#d8576b"
             ],
             [
              0.6666666666666666,
              "#ed7953"
             ],
             [
              0.7777777777777778,
              "#fb9f3a"
             ],
             [
              0.8888888888888888,
              "#fdca26"
             ],
             [
              1,
              "#f0f921"
             ]
            ],
            "type": "histogram2dcontour"
           }
          ],
          "mesh3d": [
           {
            "colorbar": {
             "outlinewidth": 0,
             "ticks": ""
            },
            "type": "mesh3d"
           }
          ],
          "parcoords": [
           {
            "line": {
             "colorbar": {
              "outlinewidth": 0,
              "ticks": ""
             }
            },
            "type": "parcoords"
           }
          ],
          "pie": [
           {
            "automargin": true,
            "type": "pie"
           }
          ],
          "scatter": [
           {
            "fillpattern": {
             "fillmode": "overlay",
             "size": 10,
             "solidity": 0.2
            },
            "type": "scatter"
           }
          ],
          "scatter3d": [
           {
            "line": {
             "colorbar": {
              "outlinewidth": 0,
              "ticks": ""
             }
            },
            "marker": {
             "colorbar": {
              "outlinewidth": 0,
              "ticks": ""
             }
            },
            "type": "scatter3d"
           }
          ],
          "scattercarpet": [
           {
            "marker": {
             "colorbar": {
              "outlinewidth": 0,
              "ticks": ""
             }
            },
            "type": "scattercarpet"
           }
          ],
          "scattergeo": [
           {
            "marker": {
             "colorbar": {
              "outlinewidth": 0,
              "ticks": ""
             }
            },
            "type": "scattergeo"
           }
          ],
          "scattergl": [
           {
            "marker": {
             "colorbar": {
              "outlinewidth": 0,
              "ticks": ""
             }
            },
            "type": "scattergl"
           }
          ],
          "scattermapbox": [
           {
            "marker": {
             "colorbar": {
              "outlinewidth": 0,
              "ticks": ""
             }
            },
            "type": "scattermapbox"
           }
          ],
          "scatterpolar": [
           {
            "marker": {
             "colorbar": {
              "outlinewidth": 0,
              "ticks": ""
             }
            },
            "type": "scatterpolar"
           }
          ],
          "scatterpolargl": [
           {
            "marker": {
             "colorbar": {
              "outlinewidth": 0,
              "ticks": ""
             }
            },
            "type": "scatterpolargl"
           }
          ],
          "scatterternary": [
           {
            "marker": {
             "colorbar": {
              "outlinewidth": 0,
              "ticks": ""
             }
            },
            "type": "scatterternary"
           }
          ],
          "surface": [
           {
            "colorbar": {
             "outlinewidth": 0,
             "ticks": ""
            },
            "colorscale": [
             [
              0,
              "#0d0887"
             ],
             [
              0.1111111111111111,
              "#46039f"
             ],
             [
              0.2222222222222222,
              "#7201a8"
             ],
             [
              0.3333333333333333,
              "#9c179e"
             ],
             [
              0.4444444444444444,
              "#bd3786"
             ],
             [
              0.5555555555555556,
              "#d8576b"
             ],
             [
              0.6666666666666666,
              "#ed7953"
             ],
             [
              0.7777777777777778,
              "#fb9f3a"
             ],
             [
              0.8888888888888888,
              "#fdca26"
             ],
             [
              1,
              "#f0f921"
             ]
            ],
            "type": "surface"
           }
          ],
          "table": [
           {
            "cells": {
             "fill": {
              "color": "#EBF0F8"
             },
             "line": {
              "color": "white"
             }
            },
            "header": {
             "fill": {
              "color": "#C8D4E3"
             },
             "line": {
              "color": "white"
             }
            },
            "type": "table"
           }
          ]
         },
         "layout": {
          "annotationdefaults": {
           "arrowcolor": "#2a3f5f",
           "arrowhead": 0,
           "arrowwidth": 1
          },
          "autotypenumbers": "strict",
          "coloraxis": {
           "colorbar": {
            "outlinewidth": 0,
            "ticks": ""
           }
          },
          "colorscale": {
           "diverging": [
            [
             0,
             "#8e0152"
            ],
            [
             0.1,
             "#c51b7d"
            ],
            [
             0.2,
             "#de77ae"
            ],
            [
             0.3,
             "#f1b6da"
            ],
            [
             0.4,
             "#fde0ef"
            ],
            [
             0.5,
             "#f7f7f7"
            ],
            [
             0.6,
             "#e6f5d0"
            ],
            [
             0.7,
             "#b8e186"
            ],
            [
             0.8,
             "#7fbc41"
            ],
            [
             0.9,
             "#4d9221"
            ],
            [
             1,
             "#276419"
            ]
           ],
           "sequential": [
            [
             0,
             "#0d0887"
            ],
            [
             0.1111111111111111,
             "#46039f"
            ],
            [
             0.2222222222222222,
             "#7201a8"
            ],
            [
             0.3333333333333333,
             "#9c179e"
            ],
            [
             0.4444444444444444,
             "#bd3786"
            ],
            [
             0.5555555555555556,
             "#d8576b"
            ],
            [
             0.6666666666666666,
             "#ed7953"
            ],
            [
             0.7777777777777778,
             "#fb9f3a"
            ],
            [
             0.8888888888888888,
             "#fdca26"
            ],
            [
             1,
             "#f0f921"
            ]
           ],
           "sequentialminus": [
            [
             0,
             "#0d0887"
            ],
            [
             0.1111111111111111,
             "#46039f"
            ],
            [
             0.2222222222222222,
             "#7201a8"
            ],
            [
             0.3333333333333333,
             "#9c179e"
            ],
            [
             0.4444444444444444,
             "#bd3786"
            ],
            [
             0.5555555555555556,
             "#d8576b"
            ],
            [
             0.6666666666666666,
             "#ed7953"
            ],
            [
             0.7777777777777778,
             "#fb9f3a"
            ],
            [
             0.8888888888888888,
             "#fdca26"
            ],
            [
             1,
             "#f0f921"
            ]
           ]
          },
          "colorway": [
           "#636efa",
           "#EF553B",
           "#00cc96",
           "#ab63fa",
           "#FFA15A",
           "#19d3f3",
           "#FF6692",
           "#B6E880",
           "#FF97FF",
           "#FECB52"
          ],
          "font": {
           "color": "#2a3f5f"
          },
          "geo": {
           "bgcolor": "white",
           "lakecolor": "white",
           "landcolor": "#E5ECF6",
           "showlakes": true,
           "showland": true,
           "subunitcolor": "white"
          },
          "hoverlabel": {
           "align": "left"
          },
          "hovermode": "closest",
          "mapbox": {
           "style": "light"
          },
          "paper_bgcolor": "white",
          "plot_bgcolor": "#E5ECF6",
          "polar": {
           "angularaxis": {
            "gridcolor": "white",
            "linecolor": "white",
            "ticks": ""
           },
           "bgcolor": "#E5ECF6",
           "radialaxis": {
            "gridcolor": "white",
            "linecolor": "white",
            "ticks": ""
           }
          },
          "scene": {
           "xaxis": {
            "backgroundcolor": "#E5ECF6",
            "gridcolor": "white",
            "gridwidth": 2,
            "linecolor": "white",
            "showbackground": true,
            "ticks": "",
            "zerolinecolor": "white"
           },
           "yaxis": {
            "backgroundcolor": "#E5ECF6",
            "gridcolor": "white",
            "gridwidth": 2,
            "linecolor": "white",
            "showbackground": true,
            "ticks": "",
            "zerolinecolor": "white"
           },
           "zaxis": {
            "backgroundcolor": "#E5ECF6",
            "gridcolor": "white",
            "gridwidth": 2,
            "linecolor": "white",
            "showbackground": true,
            "ticks": "",
            "zerolinecolor": "white"
           }
          },
          "shapedefaults": {
           "line": {
            "color": "#2a3f5f"
           }
          },
          "ternary": {
           "aaxis": {
            "gridcolor": "white",
            "linecolor": "white",
            "ticks": ""
           },
           "baxis": {
            "gridcolor": "white",
            "linecolor": "white",
            "ticks": ""
           },
           "bgcolor": "#E5ECF6",
           "caxis": {
            "gridcolor": "white",
            "linecolor": "white",
            "ticks": ""
           }
          },
          "title": {
           "x": 0.05
          },
          "xaxis": {
           "automargin": true,
           "gridcolor": "white",
           "linecolor": "white",
           "ticks": "",
           "title": {
            "standoff": 15
           },
           "zerolinecolor": "white",
           "zerolinewidth": 2
          },
          "yaxis": {
           "automargin": true,
           "gridcolor": "white",
           "linecolor": "white",
           "ticks": "",
           "title": {
            "standoff": 15
           },
           "zerolinecolor": "white",
           "zerolinewidth": 2
          }
         }
        },
        "title": {
         "text": "Durchschnittlicher Treibstoffpreis in CHF - Inflationsbereinigt"
        },
        "xaxis": {
         "title": {
          "text": "Jahr"
         }
        },
        "yaxis": {
         "range": [
          1.3,
          2.3
         ],
         "title": {
          "text": "Preis in CHF pro Liter"
         }
        }
       }
      }
     },
     "metadata": {},
     "output_type": "display_data"
    }
   ],
   "source": [
    "\n",
    "# add to plot vertical lines for 2020 to 2021\n",
    "fig = go.Figure()\n",
    "fig.add_trace(go.Scatter(x=df_story[\"Month\"], y=df_story[\"Durchschnittlicher Treibstoffpreis in CHF\"], name=\"Durchschnittlicher Treibstoffpreis in CHF\", line=dict(color=\"black\", width=2)))\n",
    "# legend on bottom left\n",
    "fig.update_layout(legend=dict(\n",
    "    orientation=\"h\",\n",
    "    yanchor=\"bottom\",\n",
    "    y=1.02,\n",
    "    xanchor=\"right\",\n",
    "    x=1\n",
    "))\n",
    "fig.update_layout(yaxis=dict(range=[1.3, 2.3]))\n",
    "fig.update_layout(title_text=\"Durchschnittlicher Treibstoffpreis in CHF - Inflationsbereinigt\")\n",
    "fig.update_xaxes(title_text=\"Jahr\")\n",
    "fig.update_yaxes(title_text=\"Preis in CHF pro Liter\")\n",
    "fig.add_vrect(x0=\"2020-01\", x1=\"2022-03\", fillcolor=\"red\", opacity=0.15, line_width=1.0, annotation_text=\"Corona Pandemie\", annotation_position=\"top left\", annotation=dict(font_size=15))\n",
    "fig.add_vrect(x0=\"2022-03\", x1=\"2023-02\", fillcolor=\"blue\", opacity=0.15, line_width=1.0, annotation_text=\"Ukraine Krise\", annotation_position=\"top left\", annotation=dict(font_size=15))\n",
    "fig.add_vrect(x0=\"2015-12\", x1=\"2020-01\", fillcolor=\"green\", opacity=0.15, line_width=1.0, annotation_text=\"\\\"Normalzustand\\\"\", annotation_position=\"top left\", annotation=dict(font_size=15))\n",
    "fig.show()\n",
    "# save fig as html\n",
    "fig.write_html(\"Durchschnittlicher Treibstoffpreis in CHF - Inflationsbereinigt.html\")\n",
    "\n"
   ]
  },
  {
   "cell_type": "code",
   "execution_count": 6,
   "metadata": {},
   "outputs": [
    {
     "data": {
      "application/vnd.plotly.v1+json": {
       "config": {
        "plotlyServerURL": "https://plot.ly"
       },
       "data": [
        {
         "name": "Brent Spot Price (CHF per Barrel)",
         "type": "scatter",
         "x": [
          "2015-12",
          "2016-01",
          "2016-02",
          "2016-03",
          "2016-04",
          "2016-05",
          "2016-06",
          "2016-07",
          "2016-08",
          "2016-09",
          "2016-10",
          "2016-11",
          "2016-12",
          "2017-01",
          "2017-02",
          "2017-03",
          "2017-04",
          "2017-05",
          "2017-06",
          "2017-07",
          "2017-08",
          "2017-09",
          "2017-10",
          "2017-11",
          "2017-12",
          "2018-01",
          "2018-02",
          "2018-03",
          "2018-04",
          "2018-05",
          "2018-06",
          "2018-07",
          "2018-08",
          "2018-09",
          "2018-10",
          "2018-11",
          "2018-12",
          "2019-01",
          "2019-02",
          "2019-03",
          "2019-04",
          "2019-05",
          "2019-06",
          "2019-07",
          "2019-08",
          "2019-09",
          "2019-10",
          "2019-11",
          "2019-12",
          "2020-01",
          "2020-02",
          "2020-03",
          "2020-04",
          "2020-05",
          "2020-06",
          "2020-07",
          "2020-08",
          "2020-09",
          "2020-10",
          "2020-11",
          "2020-12",
          "2021-01",
          "2021-02",
          "2021-03",
          "2021-04",
          "2021-05",
          "2021-06",
          "2021-07",
          "2021-08",
          "2021-09",
          "2021-10",
          "2021-11",
          "2021-12",
          "2022-01",
          "2022-02",
          "2022-03",
          "2022-04",
          "2022-05",
          "2022-06",
          "2022-07",
          "2022-08",
          "2022-09",
          "2022-10",
          "2022-11",
          "2022-12",
          "2023-01",
          "2023-02"
         ],
         "xaxis": "x",
         "y": [
          38.03355478260869,
          31.68422,
          32.117137,
          36.72406786363637,
          39.899208333333334,
          46.433881238095246,
          47.08451345454546,
          43.54940533333334,
          45.091217565217406,
          45.23589027272728,
          48.97268252380953,
          45.453339809523825,
          54.237108,
          53.987238666666656,
          55.1767692,
          51.73873891304348,
          52.0463552631579,
          48.695942434782616,
          44.425354999999996,
          46.84969142857143,
          49.55861739130435,
          54.35596571428571,
          57.363957954545455,
          61.67303700000001,
          62.719280526315785,
          64.32475636363637,
          61.685846999999995,
          62.94029,
          71.32873500000001,
          75.77479140909091,
          73.67559523809523,
          73.5189754090909,
          70.25087347826087,
          77.46307289999999,
          81.71284417391304,
          64.66400918181819,
          56.29541317647059,
          59.053088181818175,
          63.83897505,
          65.8211062857143,
          72.58676666666666,
          71.2295467826087,
          62.679208,
          63.52283182608695,
          58.445495818181826,
          62.688448000000015,
          58.89497478260869,
          63.19926238095238,
          65.142618,
          61.46326565217392,
          53.7257021,
          30.75651818181818,
          17.82402666666667,
          28.451520000000002,
          38.1367035,
          39.467132130434784,
          40.418975999999994,
          37.665418499999994,
          36.84175631818182,
          38.80737428571429,
          44.249367545454554,
          48.7652922,
          56.559517299999996,
          61.707794,
          59.146177809523806,
          61.5898048,
          67.66946768181818,
          68.05521409090909,
          64.73363571428573,
          69.38616477272727,
          76.48747999999999,
          74.45253,
          67.70265472727273,
          80.18170519047618,
          89.0284414,
          108.17043756521738,
          102.09797920000001,
          108.49642,
          117.17668842857142,
          106.48612457142856,
          98.17627581818184,
          88.56485145454546,
          93.51325155,
          86.45159536363639,
          74.9129138,
          75.59282431818183,
          77.8033285
         ],
         "yaxis": "y"
        },
        {
         "name": "WTI Spot Price (U.S. per Barrel)",
         "type": "scatter",
         "x": [
          "2015-12",
          "2016-01",
          "2016-02",
          "2016-03",
          "2016-04",
          "2016-05",
          "2016-06",
          "2016-07",
          "2016-08",
          "2016-09",
          "2016-10",
          "2016-11",
          "2016-12",
          "2017-01",
          "2017-02",
          "2017-03",
          "2017-04",
          "2017-05",
          "2017-06",
          "2017-07",
          "2017-08",
          "2017-09",
          "2017-10",
          "2017-11",
          "2017-12",
          "2018-01",
          "2018-02",
          "2018-03",
          "2018-04",
          "2018-05",
          "2018-06",
          "2018-07",
          "2018-08",
          "2018-09",
          "2018-10",
          "2018-11",
          "2018-12",
          "2019-01",
          "2019-02",
          "2019-03",
          "2019-04",
          "2019-05",
          "2019-06",
          "2019-07",
          "2019-08",
          "2019-09",
          "2019-10",
          "2019-11",
          "2019-12",
          "2020-01",
          "2020-02",
          "2020-03",
          "2020-04",
          "2020-05",
          "2020-06",
          "2020-07",
          "2020-08",
          "2020-09",
          "2020-10",
          "2020-11",
          "2020-12",
          "2021-01",
          "2021-02",
          "2021-03",
          "2021-04",
          "2021-05",
          "2021-06",
          "2021-07",
          "2021-08",
          "2021-09",
          "2021-10",
          "2021-11",
          "2021-12",
          "2022-01",
          "2022-02",
          "2022-03",
          "2022-04",
          "2022-05",
          "2022-06",
          "2022-07",
          "2022-08",
          "2022-09",
          "2022-10",
          "2022-11",
          "2022-12",
          "2023-01",
          "2023-02"
         ],
         "xaxis": "x",
         "y": [
          37.273493478260875,
          32.68088985,
          30.262354000000002,
          36.08581009090909,
          39.10465095238096,
          46.40407923809524,
          47.58222245454545,
          43.2583732,
          43.99086852173914,
          43.85517763636364,
          49.22273295238095,
          46.446320761904765,
          52.89555066666668,
          51.9369568,
          53.76784421052631,
          49.47087678260869,
          50.805223684210524,
          46.90572945454546,
          43.284780500000004,
          45.06374063157895,
          46.04342282608695,
          48.227696,
          51.44878295454546,
          55.69837114285715,
          56.393945450000004,
          59.31610971428573,
          58.769514947368414,
          59.80178800000001,
          65.62439833333333,
          68.97749381818183,
          67.20817466666666,
          70.27871242857142,
          65.91870469565218,
          68.96090415789475,
          71.34298469565216,
          56.889447450000006,
          48.60165411111111,
          51.08798545454545,
          54.881526599999994,
          57.87230171428572,
          65.07576619047619,
          60.76988139130433,
          53.34572000000001,
          57.00247504761905,
          54.25236940909091,
          56.732532285714285,
          53.22374978260869,
          57.0155946,
          57.95010436363636,
          55.549341818181816,
          48.8605901,
          28.062784363636368,
          15.971761904761903,
          27.454275000000003,
          36.280818,
          37.15085826086957,
          38.25332952380952,
          36.49128685714285,
          36.11422986363637,
          37.21206789473684,
          41.6218275,
          46.30309726315789,
          53.62586400000001,
          58.80499321739132,
          56.365831666666665,
          58.64924952380952,
          66.01768036363636,
          65.74685563636363,
          61.973365909090916,
          66.73842642857142,
          74.60003599999999,
          72.63578972727272,
          65.41552054545456,
          77.16486638095238,
          83.9807252,
          100.10450678260868,
          99.07021850000001,
          105.318416,
          109.45975295454544,
          97.07360723809525,
          91.54838347826089,
          83.28188309090909,
          87.68234460000001,
          79.78915933333333,
          70.84029352380952,
          71.5684803,
          72.38402221052633
         ],
         "yaxis": "y"
        },
        {
         "name": "Durchschnittlicher Treibstoffpreis in CHF",
         "type": "scatter",
         "x": [
          "2015-12",
          "2016-01",
          "2016-02",
          "2016-03",
          "2016-04",
          "2016-05",
          "2016-06",
          "2016-07",
          "2016-08",
          "2016-09",
          "2016-10",
          "2016-11",
          "2016-12",
          "2017-01",
          "2017-02",
          "2017-03",
          "2017-04",
          "2017-05",
          "2017-06",
          "2017-07",
          "2017-08",
          "2017-09",
          "2017-10",
          "2017-11",
          "2017-12",
          "2018-01",
          "2018-02",
          "2018-03",
          "2018-04",
          "2018-05",
          "2018-06",
          "2018-07",
          "2018-08",
          "2018-09",
          "2018-10",
          "2018-11",
          "2018-12",
          "2019-01",
          "2019-02",
          "2019-03",
          "2019-04",
          "2019-05",
          "2019-06",
          "2019-07",
          "2019-08",
          "2019-09",
          "2019-10",
          "2019-11",
          "2019-12",
          "2020-01",
          "2020-02",
          "2020-03",
          "2020-04",
          "2020-05",
          "2020-06",
          "2020-07",
          "2020-08",
          "2020-09",
          "2020-10",
          "2020-11",
          "2020-12",
          "2021-01",
          "2021-02",
          "2021-03",
          "2021-04",
          "2021-05",
          "2021-06",
          "2021-07",
          "2021-08",
          "2021-09",
          "2021-10",
          "2021-11",
          "2021-12",
          "2022-01",
          "2022-02",
          "2022-03",
          "2022-04",
          "2022-05",
          "2022-06",
          "2022-07",
          "2022-08",
          "2022-09",
          "2022-10",
          "2022-11",
          "2022-12",
          "2023-01",
          "2023-02"
         ],
         "xaxis": "x2",
         "y": [
          1.46,
          1.385542168674699,
          1.3527054108216432,
          1.3636363636363638,
          1.4093625498007967,
          1.4562624254473162,
          1.484607745779543,
          1.4705882352941178,
          1.4371257485029938,
          1.4720558882235528,
          1.4955134596211366,
          1.4985014985014986,
          1.495,
          1.56,
          1.5637450199203187,
          1.5392254220456802,
          1.5262636273538157,
          1.5148514851485149,
          1.506442021803766,
          1.4910536779324057,
          1.5159045725646125,
          1.5411298315163529,
          1.5609514370664024,
          1.5758176412289395,
          1.5773809523809523,
          1.5888778550148956,
          1.6023738872403563,
          1.561576354679803,
          1.5929203539823007,
          1.6601371204701274,
          1.6895200783545543,
          1.6797642436149314,
          1.6797642436149314,
          1.692836113837095,
          1.7042115572967678,
          1.699410609037328,
          1.6108374384236455,
          1.5695952615992104,
          1.5535889872173057,
          1.5655577299412915,
          1.6162109375,
          1.6699123661148976,
          1.650438169425511,
          1.6503428011753183,
          1.6503428011753183,
          1.602941176470588,
          1.606090373280943,
          1.5880039331366764,
          1.5929203539823007,
          1.6108374384236455,
          1.579724409448819,
          1.5142576204523106,
          1.441263573543929,
          1.4116485686080946,
          1.420118343195266,
          1.4328063241106719,
          1.4229249011857705,
          1.4278656126482212,
          1.4229249011857705,
          1.4257425742574257,
          1.4469772051536172,
          1.5113974231912786,
          1.5677546983184967,
          1.6321499013806706,
          1.6486220472440944,
          1.6584887144259077,
          1.6715686274509804,
          1.7222767419038272,
          1.7189030362389817,
          1.707436399217221,
          1.7609756097560978,
          1.8097560975609757,
          1.7822265625,
          1.7641325536062378,
          1.8441432720232331,
          1.9749518304431601,
          2.0009596928982725,
          2.011439466158246,
          2.191650853889943,
          2.191650853889943,
          2.095553453169347,
          1.9763033175355451,
          1.8578199052132702,
          1.881516587677725,
          1.761633428300095,
          1.7280453257790365,
          1.7619493908153703
         ],
         "yaxis": "y2"
        }
       ],
       "layout": {
        "annotations": [
         {
          "font": {
           "size": 15
          },
          "showarrow": false,
          "text": "Corona Pandemie",
          "x": "2020-01",
          "xanchor": "left",
          "xref": "x",
          "y": 1,
          "yanchor": "top",
          "yref": "y domain"
         },
         {
          "font": {
           "size": 15
          },
          "showarrow": false,
          "text": "Corona Pandemie",
          "x": "2020-01",
          "xanchor": "left",
          "xref": "x2",
          "y": 1,
          "yanchor": "top",
          "yref": "y2 domain"
         },
         {
          "font": {
           "size": 15
          },
          "showarrow": false,
          "text": "Ukraine Krise",
          "x": "2022-03",
          "xanchor": "left",
          "xref": "x",
          "y": 1,
          "yanchor": "top",
          "yref": "y domain"
         },
         {
          "font": {
           "size": 15
          },
          "showarrow": false,
          "text": "Ukraine Krise",
          "x": "2022-03",
          "xanchor": "left",
          "xref": "x2",
          "y": 1,
          "yanchor": "top",
          "yref": "y2 domain"
         },
         {
          "font": {
           "size": 15
          },
          "showarrow": false,
          "text": "\"Normalzustand\"",
          "x": "2015-12",
          "xanchor": "left",
          "xref": "x",
          "y": 1,
          "yanchor": "top",
          "yref": "y domain"
         },
         {
          "font": {
           "size": 15
          },
          "showarrow": false,
          "text": "\"Normalzustand\"",
          "x": "2015-12",
          "xanchor": "left",
          "xref": "x2",
          "y": 1,
          "yanchor": "top",
          "yref": "y2 domain"
         }
        ],
        "height": 800,
        "legend": {
         "orientation": "h",
         "x": 1,
         "xanchor": "right",
         "y": 1.02,
         "yanchor": "bottom"
        },
        "shapes": [
         {
          "fillcolor": "red",
          "line": {
           "width": 1
          },
          "opacity": 0.15,
          "type": "rect",
          "x0": "2020-01",
          "x1": "2022-03",
          "xref": "x",
          "y0": 0,
          "y1": 1,
          "yref": "y domain"
         },
         {
          "fillcolor": "red",
          "line": {
           "width": 1
          },
          "opacity": 0.15,
          "type": "rect",
          "x0": "2020-01",
          "x1": "2022-03",
          "xref": "x2",
          "y0": 0,
          "y1": 1,
          "yref": "y2 domain"
         },
         {
          "fillcolor": "blue",
          "line": {
           "width": 1
          },
          "opacity": 0.15,
          "type": "rect",
          "x0": "2022-03",
          "x1": "2023-02",
          "xref": "x",
          "y0": 0,
          "y1": 1,
          "yref": "y domain"
         },
         {
          "fillcolor": "blue",
          "line": {
           "width": 1
          },
          "opacity": 0.15,
          "type": "rect",
          "x0": "2022-03",
          "x1": "2023-02",
          "xref": "x2",
          "y0": 0,
          "y1": 1,
          "yref": "y2 domain"
         },
         {
          "fillcolor": "green",
          "line": {
           "width": 1
          },
          "opacity": 0.15,
          "type": "rect",
          "x0": "2015-12",
          "x1": "2020-01",
          "xref": "x",
          "y0": 0,
          "y1": 1,
          "yref": "y domain"
         },
         {
          "fillcolor": "green",
          "line": {
           "width": 1
          },
          "opacity": 0.15,
          "type": "rect",
          "x0": "2015-12",
          "x1": "2020-01",
          "xref": "x2",
          "y0": 0,
          "y1": 1,
          "yref": "y2 domain"
         }
        ],
        "template": {
         "data": {
          "bar": [
           {
            "error_x": {
             "color": "#2a3f5f"
            },
            "error_y": {
             "color": "#2a3f5f"
            },
            "marker": {
             "line": {
              "color": "#E5ECF6",
              "width": 0.5
             },
             "pattern": {
              "fillmode": "overlay",
              "size": 10,
              "solidity": 0.2
             }
            },
            "type": "bar"
           }
          ],
          "barpolar": [
           {
            "marker": {
             "line": {
              "color": "#E5ECF6",
              "width": 0.5
             },
             "pattern": {
              "fillmode": "overlay",
              "size": 10,
              "solidity": 0.2
             }
            },
            "type": "barpolar"
           }
          ],
          "carpet": [
           {
            "aaxis": {
             "endlinecolor": "#2a3f5f",
             "gridcolor": "white",
             "linecolor": "white",
             "minorgridcolor": "white",
             "startlinecolor": "#2a3f5f"
            },
            "baxis": {
             "endlinecolor": "#2a3f5f",
             "gridcolor": "white",
             "linecolor": "white",
             "minorgridcolor": "white",
             "startlinecolor": "#2a3f5f"
            },
            "type": "carpet"
           }
          ],
          "choropleth": [
           {
            "colorbar": {
             "outlinewidth": 0,
             "ticks": ""
            },
            "type": "choropleth"
           }
          ],
          "contour": [
           {
            "colorbar": {
             "outlinewidth": 0,
             "ticks": ""
            },
            "colorscale": [
             [
              0,
              "#0d0887"
             ],
             [
              0.1111111111111111,
              "#46039f"
             ],
             [
              0.2222222222222222,
              "#7201a8"
             ],
             [
              0.3333333333333333,
              "#9c179e"
             ],
             [
              0.4444444444444444,
              "#bd3786"
             ],
             [
              0.5555555555555556,
              "#d8576b"
             ],
             [
              0.6666666666666666,
              "#ed7953"
             ],
             [
              0.7777777777777778,
              "#fb9f3a"
             ],
             [
              0.8888888888888888,
              "#fdca26"
             ],
             [
              1,
              "#f0f921"
             ]
            ],
            "type": "contour"
           }
          ],
          "contourcarpet": [
           {
            "colorbar": {
             "outlinewidth": 0,
             "ticks": ""
            },
            "type": "contourcarpet"
           }
          ],
          "heatmap": [
           {
            "colorbar": {
             "outlinewidth": 0,
             "ticks": ""
            },
            "colorscale": [
             [
              0,
              "#0d0887"
             ],
             [
              0.1111111111111111,
              "#46039f"
             ],
             [
              0.2222222222222222,
              "#7201a8"
             ],
             [
              0.3333333333333333,
              "#9c179e"
             ],
             [
              0.4444444444444444,
              "#bd3786"
             ],
             [
              0.5555555555555556,
              "#d8576b"
             ],
             [
              0.6666666666666666,
              "#ed7953"
             ],
             [
              0.7777777777777778,
              "#fb9f3a"
             ],
             [
              0.8888888888888888,
              "#fdca26"
             ],
             [
              1,
              "#f0f921"
             ]
            ],
            "type": "heatmap"
           }
          ],
          "heatmapgl": [
           {
            "colorbar": {
             "outlinewidth": 0,
             "ticks": ""
            },
            "colorscale": [
             [
              0,
              "#0d0887"
             ],
             [
              0.1111111111111111,
              "#46039f"
             ],
             [
              0.2222222222222222,
              "#7201a8"
             ],
             [
              0.3333333333333333,
              "#9c179e"
             ],
             [
              0.4444444444444444,
              "#bd3786"
             ],
             [
              0.5555555555555556,
              "#d8576b"
             ],
             [
              0.6666666666666666,
              "#ed7953"
             ],
             [
              0.7777777777777778,
              "#fb9f3a"
             ],
             [
              0.8888888888888888,
              "#fdca26"
             ],
             [
              1,
              "#f0f921"
             ]
            ],
            "type": "heatmapgl"
           }
          ],
          "histogram": [
           {
            "marker": {
             "pattern": {
              "fillmode": "overlay",
              "size": 10,
              "solidity": 0.2
             }
            },
            "type": "histogram"
           }
          ],
          "histogram2d": [
           {
            "colorbar": {
             "outlinewidth": 0,
             "ticks": ""
            },
            "colorscale": [
             [
              0,
              "#0d0887"
             ],
             [
              0.1111111111111111,
              "#46039f"
             ],
             [
              0.2222222222222222,
              "#7201a8"
             ],
             [
              0.3333333333333333,
              "#9c179e"
             ],
             [
              0.4444444444444444,
              "#bd3786"
             ],
             [
              0.5555555555555556,
              "#d8576b"
             ],
             [
              0.6666666666666666,
              "#ed7953"
             ],
             [
              0.7777777777777778,
              "#fb9f3a"
             ],
             [
              0.8888888888888888,
              "#fdca26"
             ],
             [
              1,
              "#f0f921"
             ]
            ],
            "type": "histogram2d"
           }
          ],
          "histogram2dcontour": [
           {
            "colorbar": {
             "outlinewidth": 0,
             "ticks": ""
            },
            "colorscale": [
             [
              0,
              "#0d0887"
             ],
             [
              0.1111111111111111,
              "#46039f"
             ],
             [
              0.2222222222222222,
              "#7201a8"
             ],
             [
              0.3333333333333333,
              "#9c179e"
             ],
             [
              0.4444444444444444,
              "#bd3786"
             ],
             [
              0.5555555555555556,
              "#d8576b"
             ],
             [
              0.6666666666666666,
              "#ed7953"
             ],
             [
              0.7777777777777778,
              "#fb9f3a"
             ],
             [
              0.8888888888888888,
              "#fdca26"
             ],
             [
              1,
              "#f0f921"
             ]
            ],
            "type": "histogram2dcontour"
           }
          ],
          "mesh3d": [
           {
            "colorbar": {
             "outlinewidth": 0,
             "ticks": ""
            },
            "type": "mesh3d"
           }
          ],
          "parcoords": [
           {
            "line": {
             "colorbar": {
              "outlinewidth": 0,
              "ticks": ""
             }
            },
            "type": "parcoords"
           }
          ],
          "pie": [
           {
            "automargin": true,
            "type": "pie"
           }
          ],
          "scatter": [
           {
            "fillpattern": {
             "fillmode": "overlay",
             "size": 10,
             "solidity": 0.2
            },
            "type": "scatter"
           }
          ],
          "scatter3d": [
           {
            "line": {
             "colorbar": {
              "outlinewidth": 0,
              "ticks": ""
             }
            },
            "marker": {
             "colorbar": {
              "outlinewidth": 0,
              "ticks": ""
             }
            },
            "type": "scatter3d"
           }
          ],
          "scattercarpet": [
           {
            "marker": {
             "colorbar": {
              "outlinewidth": 0,
              "ticks": ""
             }
            },
            "type": "scattercarpet"
           }
          ],
          "scattergeo": [
           {
            "marker": {
             "colorbar": {
              "outlinewidth": 0,
              "ticks": ""
             }
            },
            "type": "scattergeo"
           }
          ],
          "scattergl": [
           {
            "marker": {
             "colorbar": {
              "outlinewidth": 0,
              "ticks": ""
             }
            },
            "type": "scattergl"
           }
          ],
          "scattermapbox": [
           {
            "marker": {
             "colorbar": {
              "outlinewidth": 0,
              "ticks": ""
             }
            },
            "type": "scattermapbox"
           }
          ],
          "scatterpolar": [
           {
            "marker": {
             "colorbar": {
              "outlinewidth": 0,
              "ticks": ""
             }
            },
            "type": "scatterpolar"
           }
          ],
          "scatterpolargl": [
           {
            "marker": {
             "colorbar": {
              "outlinewidth": 0,
              "ticks": ""
             }
            },
            "type": "scatterpolargl"
           }
          ],
          "scatterternary": [
           {
            "marker": {
             "colorbar": {
              "outlinewidth": 0,
              "ticks": ""
             }
            },
            "type": "scatterternary"
           }
          ],
          "surface": [
           {
            "colorbar": {
             "outlinewidth": 0,
             "ticks": ""
            },
            "colorscale": [
             [
              0,
              "#0d0887"
             ],
             [
              0.1111111111111111,
              "#46039f"
             ],
             [
              0.2222222222222222,
              "#7201a8"
             ],
             [
              0.3333333333333333,
              "#9c179e"
             ],
             [
              0.4444444444444444,
              "#bd3786"
             ],
             [
              0.5555555555555556,
              "#d8576b"
             ],
             [
              0.6666666666666666,
              "#ed7953"
             ],
             [
              0.7777777777777778,
              "#fb9f3a"
             ],
             [
              0.8888888888888888,
              "#fdca26"
             ],
             [
              1,
              "#f0f921"
             ]
            ],
            "type": "surface"
           }
          ],
          "table": [
           {
            "cells": {
             "fill": {
              "color": "#EBF0F8"
             },
             "line": {
              "color": "white"
             }
            },
            "header": {
             "fill": {
              "color": "#C8D4E3"
             },
             "line": {
              "color": "white"
             }
            },
            "type": "table"
           }
          ]
         },
         "layout": {
          "annotationdefaults": {
           "arrowcolor": "#2a3f5f",
           "arrowhead": 0,
           "arrowwidth": 1
          },
          "autotypenumbers": "strict",
          "coloraxis": {
           "colorbar": {
            "outlinewidth": 0,
            "ticks": ""
           }
          },
          "colorscale": {
           "diverging": [
            [
             0,
             "#8e0152"
            ],
            [
             0.1,
             "#c51b7d"
            ],
            [
             0.2,
             "#de77ae"
            ],
            [
             0.3,
             "#f1b6da"
            ],
            [
             0.4,
             "#fde0ef"
            ],
            [
             0.5,
             "#f7f7f7"
            ],
            [
             0.6,
             "#e6f5d0"
            ],
            [
             0.7,
             "#b8e186"
            ],
            [
             0.8,
             "#7fbc41"
            ],
            [
             0.9,
             "#4d9221"
            ],
            [
             1,
             "#276419"
            ]
           ],
           "sequential": [
            [
             0,
             "#0d0887"
            ],
            [
             0.1111111111111111,
             "#46039f"
            ],
            [
             0.2222222222222222,
             "#7201a8"
            ],
            [
             0.3333333333333333,
             "#9c179e"
            ],
            [
             0.4444444444444444,
             "#bd3786"
            ],
            [
             0.5555555555555556,
             "#d8576b"
            ],
            [
             0.6666666666666666,
             "#ed7953"
            ],
            [
             0.7777777777777778,
             "#fb9f3a"
            ],
            [
             0.8888888888888888,
             "#fdca26"
            ],
            [
             1,
             "#f0f921"
            ]
           ],
           "sequentialminus": [
            [
             0,
             "#0d0887"
            ],
            [
             0.1111111111111111,
             "#46039f"
            ],
            [
             0.2222222222222222,
             "#7201a8"
            ],
            [
             0.3333333333333333,
             "#9c179e"
            ],
            [
             0.4444444444444444,
             "#bd3786"
            ],
            [
             0.5555555555555556,
             "#d8576b"
            ],
            [
             0.6666666666666666,
             "#ed7953"
            ],
            [
             0.7777777777777778,
             "#fb9f3a"
            ],
            [
             0.8888888888888888,
             "#fdca26"
            ],
            [
             1,
             "#f0f921"
            ]
           ]
          },
          "colorway": [
           "#636efa",
           "#EF553B",
           "#00cc96",
           "#ab63fa",
           "#FFA15A",
           "#19d3f3",
           "#FF6692",
           "#B6E880",
           "#FF97FF",
           "#FECB52"
          ],
          "font": {
           "color": "#2a3f5f"
          },
          "geo": {
           "bgcolor": "white",
           "lakecolor": "white",
           "landcolor": "#E5ECF6",
           "showlakes": true,
           "showland": true,
           "subunitcolor": "white"
          },
          "hoverlabel": {
           "align": "left"
          },
          "hovermode": "closest",
          "mapbox": {
           "style": "light"
          },
          "paper_bgcolor": "white",
          "plot_bgcolor": "#E5ECF6",
          "polar": {
           "angularaxis": {
            "gridcolor": "white",
            "linecolor": "white",
            "ticks": ""
           },
           "bgcolor": "#E5ECF6",
           "radialaxis": {
            "gridcolor": "white",
            "linecolor": "white",
            "ticks": ""
           }
          },
          "scene": {
           "xaxis": {
            "backgroundcolor": "#E5ECF6",
            "gridcolor": "white",
            "gridwidth": 2,
            "linecolor": "white",
            "showbackground": true,
            "ticks": "",
            "zerolinecolor": "white"
           },
           "yaxis": {
            "backgroundcolor": "#E5ECF6",
            "gridcolor": "white",
            "gridwidth": 2,
            "linecolor": "white",
            "showbackground": true,
            "ticks": "",
            "zerolinecolor": "white"
           },
           "zaxis": {
            "backgroundcolor": "#E5ECF6",
            "gridcolor": "white",
            "gridwidth": 2,
            "linecolor": "white",
            "showbackground": true,
            "ticks": "",
            "zerolinecolor": "white"
           }
          },
          "shapedefaults": {
           "line": {
            "color": "#2a3f5f"
           }
          },
          "ternary": {
           "aaxis": {
            "gridcolor": "white",
            "linecolor": "white",
            "ticks": ""
           },
           "baxis": {
            "gridcolor": "white",
            "linecolor": "white",
            "ticks": ""
           },
           "bgcolor": "#E5ECF6",
           "caxis": {
            "gridcolor": "white",
            "linecolor": "white",
            "ticks": ""
           }
          },
          "title": {
           "x": 0.05
          },
          "xaxis": {
           "automargin": true,
           "gridcolor": "white",
           "linecolor": "white",
           "ticks": "",
           "title": {
            "standoff": 15
           },
           "zerolinecolor": "white",
           "zerolinewidth": 2
          },
          "yaxis": {
           "automargin": true,
           "gridcolor": "white",
           "linecolor": "white",
           "ticks": "",
           "title": {
            "standoff": 15
           },
           "zerolinecolor": "white",
           "zerolinewidth": 2
          }
         }
        },
        "title": {
         "text": "Brent and WTI Spot Price (CHF per Barrel) und Durchschnittlicher Treibstoffpreis in CHF - Inflationsbereinigt"
        },
        "width": 1500,
        "xaxis": {
         "anchor": "y",
         "domain": [
          0,
          1
         ],
         "matches": "x2",
         "showticklabels": false,
         "title": {
          "text": ""
         }
        },
        "xaxis2": {
         "anchor": "y2",
         "domain": [
          0,
          1
         ],
         "title": {
          "text": "Jahr"
         }
        },
        "yaxis": {
         "anchor": "x",
         "domain": [
          0.525,
          1
         ],
         "range": [
          10,
          130
         ],
         "title": {
          "text": "CHF Pro Barrel"
         }
        },
        "yaxis2": {
         "anchor": "x2",
         "domain": [
          0,
          0.475
         ],
         "range": [
          1.3,
          2.3
         ],
         "title": {
          "text": "Preis in CHF pro Liter"
         }
        }
       }
      }
     },
     "metadata": {},
     "output_type": "display_data"
    }
   ],
   "source": [
    "# create 2 subplots \n",
    "fig = make_subplots(rows=2, cols=1, shared_xaxes=True, vertical_spacing=0.05)\n",
    "# add traces\n",
    "fig.add_trace(go.Scatter(x=df_story[\"Month\"], y=df_story[\"Brent Spot Price (CHF per Barrel)\"], name=\"Brent Spot Price (CHF per Barrel)\"), row=1, col=1)\n",
    "fig.add_trace(go.Scatter(x=df_story[\"Month\"], y=df_story[\"WTI Spot Price (CHF per Barrel)\"], name=\"WTI Spot Price (U.S. per Barrel)\"), row=1, col=1)\n",
    "fig.add_trace(go.Scatter(x=df_story[\"Month\"], y=df_story[\"Durchschnittlicher Treibstoffpreis in CHF\"], name=\"Durchschnittlicher Treibstoffpreis in CHF\"), row=2, col=1)\n",
    "# legend on bottom left\n",
    "fig.update_layout(legend=dict(\n",
    "    orientation=\"h\",\n",
    "    yanchor=\"bottom\",\n",
    "    y=1.02,\n",
    "    xanchor=\"right\",\n",
    "    x=1\n",
    "))\n",
    "# y to 2.5\n",
    "# y for first plot to 150\n",
    "fig.update_layout(yaxis=dict(range=[10, 130]), yaxis2=dict(range=[1.3, 2.3]))\n",
    "fig.update_xaxes(title_text=\"Jahr\")\n",
    "fig.update_yaxes(title_text=\"CHF Pro Barrel\", row=1, col=1)\n",
    "fig.update_yaxes(title_text=\"Preis in CHF pro Liter\", row=2, col=1)\n",
    "# remove yaxis2 title\n",
    "fig.update_xaxes(title_text=\"\", row=1, col=1)\n",
    "# add title\n",
    "fig.update_layout(title_text=\"Brent and WTI Spot Price (CHF per Barrel) und Durchschnittlicher Treibstoffpreis in CHF - Inflationsbereinigt\")\n",
    "fig.add_vrect(x0=\"2020-01\", x1=\"2022-03\", fillcolor=\"red\", opacity=0.15, line_width=1.0, annotation_text=\"Corona Pandemie\", annotation_position=\"top left\", annotation=dict(font_size=15))\n",
    "fig.add_vrect(x0=\"2022-03\", x1=\"2023-02\", fillcolor=\"blue\", opacity=0.15, line_width=1.0, annotation_text=\"Ukraine Krise\", annotation_position=\"top left\", annotation=dict(font_size=15))\n",
    "fig.add_vrect(x0=\"2015-12\", x1=\"2020-01\", fillcolor=\"green\", opacity=0.15, line_width=1.0, annotation_text=\"\\\"Normalzustand\\\"\", annotation_position=\"top left\", annotation=dict(font_size=15))\n",
    "# Change plot size\n",
    "fig.update_layout(height=800, width=1500)\n",
    "fig.show()\n",
    "# export as html\n",
    "fig.write_html(\"Brent and WTI Spot Price (CHF per Barrel) und Durchschnittlicher Treibstoffpreis in CHF - Inflationsbereinigt.html\")\n"
   ]
  }
 ],
 "metadata": {
  "kernelspec": {
   "display_name": "Python 3",
   "language": "python",
   "name": "python3"
  },
  "language_info": {
   "codemirror_mode": {
    "name": "ipython",
    "version": 3
   },
   "file_extension": ".py",
   "mimetype": "text/x-python",
   "name": "python",
   "nbconvert_exporter": "python",
   "pygments_lexer": "ipython3",
   "version": "3.9.7"
  },
  "orig_nbformat": 4
 },
 "nbformat": 4,
 "nbformat_minor": 2
}
